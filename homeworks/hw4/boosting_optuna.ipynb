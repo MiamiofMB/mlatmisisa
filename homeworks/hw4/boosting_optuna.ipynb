{
  "cells": [
    {
      "cell_type": "markdown",
      "metadata": {
        "id": "7RFYFpeRlRSs"
      },
      "source": [
        "# Импортируем необходимые библиотеки"
      ]
    },
    {
      "cell_type": "code",
      "source": [
        "!pip install catboost\n",
        "!pip install xgboost\n",
        "!pip install lightgbm\n",
        "!pip install optuna\n",
        "!pip install openfe\n",
        "!pip install pandas"
      ],
      "metadata": {
        "colab": {
          "base_uri": "https://localhost:8080/"
        },
        "id": "YPhMfMkYl0ND",
        "outputId": "3dfb0ea6-aa13-4660-fb7b-b157fdc47501"
      },
      "execution_count": null,
      "outputs": [
        {
          "output_type": "stream",
          "name": "stdout",
          "text": [
            "Collecting catboost\n",
            "  Downloading catboost-1.2.8-cp311-cp311-manylinux2014_x86_64.whl.metadata (1.2 kB)\n",
            "Requirement already satisfied: graphviz in /usr/local/lib/python3.11/dist-packages (from catboost) (0.20.3)\n",
            "Requirement already satisfied: matplotlib in /usr/local/lib/python3.11/dist-packages (from catboost) (3.10.0)\n",
            "Requirement already satisfied: numpy<3.0,>=1.16.0 in /usr/local/lib/python3.11/dist-packages (from catboost) (2.0.2)\n",
            "Requirement already satisfied: pandas>=0.24 in /usr/local/lib/python3.11/dist-packages (from catboost) (2.2.2)\n",
            "Requirement already satisfied: scipy in /usr/local/lib/python3.11/dist-packages (from catboost) (1.15.3)\n",
            "Requirement already satisfied: plotly in /usr/local/lib/python3.11/dist-packages (from catboost) (5.24.1)\n",
            "Requirement already satisfied: six in /usr/local/lib/python3.11/dist-packages (from catboost) (1.17.0)\n",
            "Requirement already satisfied: python-dateutil>=2.8.2 in /usr/local/lib/python3.11/dist-packages (from pandas>=0.24->catboost) (2.9.0.post0)\n",
            "Requirement already satisfied: pytz>=2020.1 in /usr/local/lib/python3.11/dist-packages (from pandas>=0.24->catboost) (2025.2)\n",
            "Requirement already satisfied: tzdata>=2022.7 in /usr/local/lib/python3.11/dist-packages (from pandas>=0.24->catboost) (2025.2)\n",
            "Requirement already satisfied: contourpy>=1.0.1 in /usr/local/lib/python3.11/dist-packages (from matplotlib->catboost) (1.3.2)\n",
            "Requirement already satisfied: cycler>=0.10 in /usr/local/lib/python3.11/dist-packages (from matplotlib->catboost) (0.12.1)\n",
            "Requirement already satisfied: fonttools>=4.22.0 in /usr/local/lib/python3.11/dist-packages (from matplotlib->catboost) (4.58.0)\n",
            "Requirement already satisfied: kiwisolver>=1.3.1 in /usr/local/lib/python3.11/dist-packages (from matplotlib->catboost) (1.4.8)\n",
            "Requirement already satisfied: packaging>=20.0 in /usr/local/lib/python3.11/dist-packages (from matplotlib->catboost) (24.2)\n",
            "Requirement already satisfied: pillow>=8 in /usr/local/lib/python3.11/dist-packages (from matplotlib->catboost) (11.2.1)\n",
            "Requirement already satisfied: pyparsing>=2.3.1 in /usr/local/lib/python3.11/dist-packages (from matplotlib->catboost) (3.2.3)\n",
            "Requirement already satisfied: tenacity>=6.2.0 in /usr/local/lib/python3.11/dist-packages (from plotly->catboost) (9.1.2)\n",
            "Downloading catboost-1.2.8-cp311-cp311-manylinux2014_x86_64.whl (99.2 MB)\n",
            "\u001b[2K   \u001b[90m━━━━━━━━━━━━━━━━━━━━━━━━━━━━━━━━━━━━━━━━\u001b[0m \u001b[32m99.2/99.2 MB\u001b[0m \u001b[31m6.7 MB/s\u001b[0m eta \u001b[36m0:00:00\u001b[0m\n",
            "\u001b[?25hInstalling collected packages: catboost\n",
            "Successfully installed catboost-1.2.8\n",
            "Requirement already satisfied: xgboost in /usr/local/lib/python3.11/dist-packages (2.1.4)\n",
            "Requirement already satisfied: numpy in /usr/local/lib/python3.11/dist-packages (from xgboost) (2.0.2)\n",
            "Requirement already satisfied: nvidia-nccl-cu12 in /usr/local/lib/python3.11/dist-packages (from xgboost) (2.21.5)\n",
            "Requirement already satisfied: scipy in /usr/local/lib/python3.11/dist-packages (from xgboost) (1.15.3)\n",
            "Requirement already satisfied: lightgbm in /usr/local/lib/python3.11/dist-packages (4.5.0)\n",
            "Requirement already satisfied: numpy>=1.17.0 in /usr/local/lib/python3.11/dist-packages (from lightgbm) (2.0.2)\n",
            "Requirement already satisfied: scipy in /usr/local/lib/python3.11/dist-packages (from lightgbm) (1.15.3)\n",
            "Collecting optuna\n",
            "  Downloading optuna-4.3.0-py3-none-any.whl.metadata (17 kB)\n",
            "Collecting alembic>=1.5.0 (from optuna)\n",
            "  Downloading alembic-1.16.1-py3-none-any.whl.metadata (7.3 kB)\n",
            "Collecting colorlog (from optuna)\n",
            "  Downloading colorlog-6.9.0-py3-none-any.whl.metadata (10 kB)\n",
            "Requirement already satisfied: numpy in /usr/local/lib/python3.11/dist-packages (from optuna) (2.0.2)\n",
            "Requirement already satisfied: packaging>=20.0 in /usr/local/lib/python3.11/dist-packages (from optuna) (24.2)\n",
            "Requirement already satisfied: sqlalchemy>=1.4.2 in /usr/local/lib/python3.11/dist-packages (from optuna) (2.0.40)\n",
            "Requirement already satisfied: tqdm in /usr/local/lib/python3.11/dist-packages (from optuna) (4.67.1)\n",
            "Requirement already satisfied: PyYAML in /usr/local/lib/python3.11/dist-packages (from optuna) (6.0.2)\n",
            "Requirement already satisfied: Mako in /usr/lib/python3/dist-packages (from alembic>=1.5.0->optuna) (1.1.3)\n",
            "Requirement already satisfied: typing-extensions>=4.12 in /usr/local/lib/python3.11/dist-packages (from alembic>=1.5.0->optuna) (4.13.2)\n",
            "Requirement already satisfied: greenlet>=1 in /usr/local/lib/python3.11/dist-packages (from sqlalchemy>=1.4.2->optuna) (3.2.2)\n",
            "Downloading optuna-4.3.0-py3-none-any.whl (386 kB)\n",
            "\u001b[2K   \u001b[90m━━━━━━━━━━━━━━━━━━━━━━━━━━━━━━━━━━━━━━━━\u001b[0m \u001b[32m386.6/386.6 kB\u001b[0m \u001b[31m8.6 MB/s\u001b[0m eta \u001b[36m0:00:00\u001b[0m\n",
            "\u001b[?25hDownloading alembic-1.16.1-py3-none-any.whl (242 kB)\n",
            "\u001b[2K   \u001b[90m━━━━━━━━━━━━━━━━━━━━━━━━━━━━━━━━━━━━━━━━\u001b[0m \u001b[32m242.5/242.5 kB\u001b[0m \u001b[31m21.6 MB/s\u001b[0m eta \u001b[36m0:00:00\u001b[0m\n",
            "\u001b[?25hDownloading colorlog-6.9.0-py3-none-any.whl (11 kB)\n",
            "Installing collected packages: colorlog, alembic, optuna\n",
            "Successfully installed alembic-1.16.1 colorlog-6.9.0 optuna-4.3.0\n",
            "Collecting openfe\n",
            "  Downloading openfe-0.0.12-py3-none-any.whl.metadata (667 bytes)\n",
            "Requirement already satisfied: numpy>=1.19.3 in /usr/local/lib/python3.11/dist-packages (from openfe) (2.0.2)\n",
            "Requirement already satisfied: pandas>=1.1.5 in /usr/local/lib/python3.11/dist-packages (from openfe) (2.2.2)\n",
            "Requirement already satisfied: scikit-learn>=0.24.2 in /usr/local/lib/python3.11/dist-packages (from openfe) (1.6.1)\n",
            "Requirement already satisfied: lightgbm>=3.3.2 in /usr/local/lib/python3.11/dist-packages (from openfe) (4.5.0)\n",
            "Requirement already satisfied: scipy>=1.5.4 in /usr/local/lib/python3.11/dist-packages (from openfe) (1.15.3)\n",
            "Requirement already satisfied: tqdm in /usr/local/lib/python3.11/dist-packages (from openfe) (4.67.1)\n",
            "Requirement already satisfied: pyarrow in /usr/local/lib/python3.11/dist-packages (from openfe) (18.1.0)\n",
            "Requirement already satisfied: python-dateutil>=2.8.2 in /usr/local/lib/python3.11/dist-packages (from pandas>=1.1.5->openfe) (2.9.0.post0)\n",
            "Requirement already satisfied: pytz>=2020.1 in /usr/local/lib/python3.11/dist-packages (from pandas>=1.1.5->openfe) (2025.2)\n",
            "Requirement already satisfied: tzdata>=2022.7 in /usr/local/lib/python3.11/dist-packages (from pandas>=1.1.5->openfe) (2025.2)\n",
            "Requirement already satisfied: joblib>=1.2.0 in /usr/local/lib/python3.11/dist-packages (from scikit-learn>=0.24.2->openfe) (1.5.0)\n",
            "Requirement already satisfied: threadpoolctl>=3.1.0 in /usr/local/lib/python3.11/dist-packages (from scikit-learn>=0.24.2->openfe) (3.6.0)\n",
            "Requirement already satisfied: six>=1.5 in /usr/local/lib/python3.11/dist-packages (from python-dateutil>=2.8.2->pandas>=1.1.5->openfe) (1.17.0)\n",
            "Downloading openfe-0.0.12-py3-none-any.whl (21 kB)\n",
            "Installing collected packages: openfe\n",
            "Successfully installed openfe-0.0.12\n",
            "Requirement already satisfied: pandas in /usr/local/lib/python3.11/dist-packages (2.2.2)\n",
            "Requirement already satisfied: numpy>=1.23.2 in /usr/local/lib/python3.11/dist-packages (from pandas) (2.0.2)\n",
            "Requirement already satisfied: python-dateutil>=2.8.2 in /usr/local/lib/python3.11/dist-packages (from pandas) (2.9.0.post0)\n",
            "Requirement already satisfied: pytz>=2020.1 in /usr/local/lib/python3.11/dist-packages (from pandas) (2025.2)\n",
            "Requirement already satisfied: tzdata>=2022.7 in /usr/local/lib/python3.11/dist-packages (from pandas) (2025.2)\n",
            "Requirement already satisfied: six>=1.5 in /usr/local/lib/python3.11/dist-packages (from python-dateutil>=2.8.2->pandas) (1.17.0)\n"
          ]
        }
      ]
    },
    {
      "cell_type": "code",
      "execution_count": null,
      "metadata": {
        "execution": {
          "iopub.execute_input": "2025-03-27T19:03:10.070354Z",
          "iopub.status.busy": "2025-03-27T19:03:10.069953Z",
          "iopub.status.idle": "2025-03-27T19:03:10.075897Z",
          "shell.execute_reply": "2025-03-27T19:03:10.074755Z",
          "shell.execute_reply.started": "2025-03-27T19:03:10.070322Z"
        },
        "trusted": true,
        "id": "Yek33GsIlRSt"
      },
      "outputs": [],
      "source": [
        "import os\n",
        "\n",
        "import numpy as np\n",
        "import pandas as pd\n",
        "from sklearn.model_selection import StratifiedKFold,train_test_split\n",
        "from sklearn.metrics import roc_auc_score, accuracy_score\n",
        "\n",
        "from catboost import CatBoostClassifier, Pool\n",
        "from xgboost import XGBClassifier\n",
        "import lightgbm as lgb\n",
        "\n",
        "import optuna\n",
        "\n",
        "import warnings\n",
        "warnings.filterwarnings('ignore')"
      ]
    },
    {
      "cell_type": "markdown",
      "metadata": {
        "id": "A1Gc7NW8lRSu"
      },
      "source": [
        "# Загрузим данные"
      ]
    },
    {
      "cell_type": "code",
      "execution_count": null,
      "metadata": {
        "execution": {
          "iopub.execute_input": "2025-03-27T19:03:11.077288Z",
          "iopub.status.busy": "2025-03-27T19:03:11.076821Z",
          "iopub.status.idle": "2025-03-27T19:03:12.232931Z",
          "shell.execute_reply": "2025-03-27T19:03:12.231416Z",
          "shell.execute_reply.started": "2025-03-27T19:03:11.077249Z"
        },
        "trusted": true,
        "id": "q2f-Iy-XlRSu"
      },
      "outputs": [],
      "source": [
        "train_features = pd.read_csv('train_features.csv', index_col='match_id_hash')\n",
        "train_targets = pd.read_csv( 'train_targets.csv', index_col='match_id_hash')"
      ]
    },
    {
      "cell_type": "code",
      "execution_count": null,
      "metadata": {
        "execution": {
          "iopub.execute_input": "2025-03-27T19:03:13.149675Z",
          "iopub.status.busy": "2025-03-27T19:03:13.149199Z",
          "iopub.status.idle": "2025-03-27T19:03:13.168917Z",
          "shell.execute_reply": "2025-03-27T19:03:13.167366Z",
          "shell.execute_reply.started": "2025-03-27T19:03:13.149637Z"
        },
        "trusted": true,
        "colab": {
          "base_uri": "https://localhost:8080/",
          "height": 193
        },
        "id": "kHN3JojolRSv",
        "outputId": "178f9e13-c551-4599-ce0d-dab40f17f221"
      },
      "outputs": [
        {
          "output_type": "execute_result",
          "data": {
            "text/plain": [
              "                                  game_time  game_mode  lobby_type  \\\n",
              "match_id_hash                                                        \n",
              "a400b8f29dece5f4d266f49f1ae2e98a        155         22           7   \n",
              "b9c57c450ce74a2af79c9ce96fac144d        658          4           0   \n",
              "\n",
              "                                  objectives_len  chat_len  r1_hero_id  \\\n",
              "match_id_hash                                                            \n",
              "a400b8f29dece5f4d266f49f1ae2e98a               1        11          11   \n",
              "b9c57c450ce74a2af79c9ce96fac144d               3        10          15   \n",
              "\n",
              "                                  r1_kills  r1_deaths  r1_assists  r1_denies  \\\n",
              "match_id_hash                                                                  \n",
              "a400b8f29dece5f4d266f49f1ae2e98a         0          0           0          0   \n",
              "b9c57c450ce74a2af79c9ce96fac144d         7          2           0          7   \n",
              "\n",
              "                                  ...  d5_stuns  d5_creeps_stacked  \\\n",
              "match_id_hash                     ...                                \n",
              "a400b8f29dece5f4d266f49f1ae2e98a  ...       0.0                0.0   \n",
              "b9c57c450ce74a2af79c9ce96fac144d  ...       0.0                0.0   \n",
              "\n",
              "                                  d5_camps_stacked  d5_rune_pickups  \\\n",
              "match_id_hash                                                         \n",
              "a400b8f29dece5f4d266f49f1ae2e98a               0.0              0.0   \n",
              "b9c57c450ce74a2af79c9ce96fac144d               0.0              0.0   \n",
              "\n",
              "                                  d5_firstblood_claimed  \\\n",
              "match_id_hash                                             \n",
              "a400b8f29dece5f4d266f49f1ae2e98a                    0.0   \n",
              "b9c57c450ce74a2af79c9ce96fac144d                    0.0   \n",
              "\n",
              "                                  d5_teamfight_participation  \\\n",
              "match_id_hash                                                  \n",
              "a400b8f29dece5f4d266f49f1ae2e98a                         0.0   \n",
              "b9c57c450ce74a2af79c9ce96fac144d                         0.0   \n",
              "\n",
              "                                  d5_towers_killed  d5_roshans_killed  \\\n",
              "match_id_hash                                                           \n",
              "a400b8f29dece5f4d266f49f1ae2e98a               0.0                0.0   \n",
              "b9c57c450ce74a2af79c9ce96fac144d               0.0                0.0   \n",
              "\n",
              "                                  d5_obs_placed  d5_sen_placed  \n",
              "match_id_hash                                                   \n",
              "a400b8f29dece5f4d266f49f1ae2e98a            0.0            0.0  \n",
              "b9c57c450ce74a2af79c9ce96fac144d            0.0            0.0  \n",
              "\n",
              "[2 rows x 245 columns]"
            ],
            "text/html": [
              "\n",
              "  <div id=\"df-bf8ed390-9051-47d5-9343-143c22cf5824\" class=\"colab-df-container\">\n",
              "    <div>\n",
              "<style scoped>\n",
              "    .dataframe tbody tr th:only-of-type {\n",
              "        vertical-align: middle;\n",
              "    }\n",
              "\n",
              "    .dataframe tbody tr th {\n",
              "        vertical-align: top;\n",
              "    }\n",
              "\n",
              "    .dataframe thead th {\n",
              "        text-align: right;\n",
              "    }\n",
              "</style>\n",
              "<table border=\"1\" class=\"dataframe\">\n",
              "  <thead>\n",
              "    <tr style=\"text-align: right;\">\n",
              "      <th></th>\n",
              "      <th>game_time</th>\n",
              "      <th>game_mode</th>\n",
              "      <th>lobby_type</th>\n",
              "      <th>objectives_len</th>\n",
              "      <th>chat_len</th>\n",
              "      <th>r1_hero_id</th>\n",
              "      <th>r1_kills</th>\n",
              "      <th>r1_deaths</th>\n",
              "      <th>r1_assists</th>\n",
              "      <th>r1_denies</th>\n",
              "      <th>...</th>\n",
              "      <th>d5_stuns</th>\n",
              "      <th>d5_creeps_stacked</th>\n",
              "      <th>d5_camps_stacked</th>\n",
              "      <th>d5_rune_pickups</th>\n",
              "      <th>d5_firstblood_claimed</th>\n",
              "      <th>d5_teamfight_participation</th>\n",
              "      <th>d5_towers_killed</th>\n",
              "      <th>d5_roshans_killed</th>\n",
              "      <th>d5_obs_placed</th>\n",
              "      <th>d5_sen_placed</th>\n",
              "    </tr>\n",
              "    <tr>\n",
              "      <th>match_id_hash</th>\n",
              "      <th></th>\n",
              "      <th></th>\n",
              "      <th></th>\n",
              "      <th></th>\n",
              "      <th></th>\n",
              "      <th></th>\n",
              "      <th></th>\n",
              "      <th></th>\n",
              "      <th></th>\n",
              "      <th></th>\n",
              "      <th></th>\n",
              "      <th></th>\n",
              "      <th></th>\n",
              "      <th></th>\n",
              "      <th></th>\n",
              "      <th></th>\n",
              "      <th></th>\n",
              "      <th></th>\n",
              "      <th></th>\n",
              "      <th></th>\n",
              "      <th></th>\n",
              "    </tr>\n",
              "  </thead>\n",
              "  <tbody>\n",
              "    <tr>\n",
              "      <th>a400b8f29dece5f4d266f49f1ae2e98a</th>\n",
              "      <td>155</td>\n",
              "      <td>22</td>\n",
              "      <td>7</td>\n",
              "      <td>1</td>\n",
              "      <td>11</td>\n",
              "      <td>11</td>\n",
              "      <td>0</td>\n",
              "      <td>0</td>\n",
              "      <td>0</td>\n",
              "      <td>0</td>\n",
              "      <td>...</td>\n",
              "      <td>0.0</td>\n",
              "      <td>0.0</td>\n",
              "      <td>0.0</td>\n",
              "      <td>0.0</td>\n",
              "      <td>0.0</td>\n",
              "      <td>0.0</td>\n",
              "      <td>0.0</td>\n",
              "      <td>0.0</td>\n",
              "      <td>0.0</td>\n",
              "      <td>0.0</td>\n",
              "    </tr>\n",
              "    <tr>\n",
              "      <th>b9c57c450ce74a2af79c9ce96fac144d</th>\n",
              "      <td>658</td>\n",
              "      <td>4</td>\n",
              "      <td>0</td>\n",
              "      <td>3</td>\n",
              "      <td>10</td>\n",
              "      <td>15</td>\n",
              "      <td>7</td>\n",
              "      <td>2</td>\n",
              "      <td>0</td>\n",
              "      <td>7</td>\n",
              "      <td>...</td>\n",
              "      <td>0.0</td>\n",
              "      <td>0.0</td>\n",
              "      <td>0.0</td>\n",
              "      <td>0.0</td>\n",
              "      <td>0.0</td>\n",
              "      <td>0.0</td>\n",
              "      <td>0.0</td>\n",
              "      <td>0.0</td>\n",
              "      <td>0.0</td>\n",
              "      <td>0.0</td>\n",
              "    </tr>\n",
              "  </tbody>\n",
              "</table>\n",
              "<p>2 rows × 245 columns</p>\n",
              "</div>\n",
              "    <div class=\"colab-df-buttons\">\n",
              "\n",
              "  <div class=\"colab-df-container\">\n",
              "    <button class=\"colab-df-convert\" onclick=\"convertToInteractive('df-bf8ed390-9051-47d5-9343-143c22cf5824')\"\n",
              "            title=\"Convert this dataframe to an interactive table.\"\n",
              "            style=\"display:none;\">\n",
              "\n",
              "  <svg xmlns=\"http://www.w3.org/2000/svg\" height=\"24px\" viewBox=\"0 -960 960 960\">\n",
              "    <path d=\"M120-120v-720h720v720H120Zm60-500h600v-160H180v160Zm220 220h160v-160H400v160Zm0 220h160v-160H400v160ZM180-400h160v-160H180v160Zm440 0h160v-160H620v160ZM180-180h160v-160H180v160Zm440 0h160v-160H620v160Z\"/>\n",
              "  </svg>\n",
              "    </button>\n",
              "\n",
              "  <style>\n",
              "    .colab-df-container {\n",
              "      display:flex;\n",
              "      gap: 12px;\n",
              "    }\n",
              "\n",
              "    .colab-df-convert {\n",
              "      background-color: #E8F0FE;\n",
              "      border: none;\n",
              "      border-radius: 50%;\n",
              "      cursor: pointer;\n",
              "      display: none;\n",
              "      fill: #1967D2;\n",
              "      height: 32px;\n",
              "      padding: 0 0 0 0;\n",
              "      width: 32px;\n",
              "    }\n",
              "\n",
              "    .colab-df-convert:hover {\n",
              "      background-color: #E2EBFA;\n",
              "      box-shadow: 0px 1px 2px rgba(60, 64, 67, 0.3), 0px 1px 3px 1px rgba(60, 64, 67, 0.15);\n",
              "      fill: #174EA6;\n",
              "    }\n",
              "\n",
              "    .colab-df-buttons div {\n",
              "      margin-bottom: 4px;\n",
              "    }\n",
              "\n",
              "    [theme=dark] .colab-df-convert {\n",
              "      background-color: #3B4455;\n",
              "      fill: #D2E3FC;\n",
              "    }\n",
              "\n",
              "    [theme=dark] .colab-df-convert:hover {\n",
              "      background-color: #434B5C;\n",
              "      box-shadow: 0px 1px 3px 1px rgba(0, 0, 0, 0.15);\n",
              "      filter: drop-shadow(0px 1px 2px rgba(0, 0, 0, 0.3));\n",
              "      fill: #FFFFFF;\n",
              "    }\n",
              "  </style>\n",
              "\n",
              "    <script>\n",
              "      const buttonEl =\n",
              "        document.querySelector('#df-bf8ed390-9051-47d5-9343-143c22cf5824 button.colab-df-convert');\n",
              "      buttonEl.style.display =\n",
              "        google.colab.kernel.accessAllowed ? 'block' : 'none';\n",
              "\n",
              "      async function convertToInteractive(key) {\n",
              "        const element = document.querySelector('#df-bf8ed390-9051-47d5-9343-143c22cf5824');\n",
              "        const dataTable =\n",
              "          await google.colab.kernel.invokeFunction('convertToInteractive',\n",
              "                                                    [key], {});\n",
              "        if (!dataTable) return;\n",
              "\n",
              "        const docLinkHtml = 'Like what you see? Visit the ' +\n",
              "          '<a target=\"_blank\" href=https://colab.research.google.com/notebooks/data_table.ipynb>data table notebook</a>'\n",
              "          + ' to learn more about interactive tables.';\n",
              "        element.innerHTML = '';\n",
              "        dataTable['output_type'] = 'display_data';\n",
              "        await google.colab.output.renderOutput(dataTable, element);\n",
              "        const docLink = document.createElement('div');\n",
              "        docLink.innerHTML = docLinkHtml;\n",
              "        element.appendChild(docLink);\n",
              "      }\n",
              "    </script>\n",
              "  </div>\n",
              "\n",
              "\n",
              "    <div id=\"df-2a8476d5-99b5-48e7-8474-cba86a1c0a95\">\n",
              "      <button class=\"colab-df-quickchart\" onclick=\"quickchart('df-2a8476d5-99b5-48e7-8474-cba86a1c0a95')\"\n",
              "                title=\"Suggest charts\"\n",
              "                style=\"display:none;\">\n",
              "\n",
              "<svg xmlns=\"http://www.w3.org/2000/svg\" height=\"24px\"viewBox=\"0 0 24 24\"\n",
              "     width=\"24px\">\n",
              "    <g>\n",
              "        <path d=\"M19 3H5c-1.1 0-2 .9-2 2v14c0 1.1.9 2 2 2h14c1.1 0 2-.9 2-2V5c0-1.1-.9-2-2-2zM9 17H7v-7h2v7zm4 0h-2V7h2v10zm4 0h-2v-4h2v4z\"/>\n",
              "    </g>\n",
              "</svg>\n",
              "      </button>\n",
              "\n",
              "<style>\n",
              "  .colab-df-quickchart {\n",
              "      --bg-color: #E8F0FE;\n",
              "      --fill-color: #1967D2;\n",
              "      --hover-bg-color: #E2EBFA;\n",
              "      --hover-fill-color: #174EA6;\n",
              "      --disabled-fill-color: #AAA;\n",
              "      --disabled-bg-color: #DDD;\n",
              "  }\n",
              "\n",
              "  [theme=dark] .colab-df-quickchart {\n",
              "      --bg-color: #3B4455;\n",
              "      --fill-color: #D2E3FC;\n",
              "      --hover-bg-color: #434B5C;\n",
              "      --hover-fill-color: #FFFFFF;\n",
              "      --disabled-bg-color: #3B4455;\n",
              "      --disabled-fill-color: #666;\n",
              "  }\n",
              "\n",
              "  .colab-df-quickchart {\n",
              "    background-color: var(--bg-color);\n",
              "    border: none;\n",
              "    border-radius: 50%;\n",
              "    cursor: pointer;\n",
              "    display: none;\n",
              "    fill: var(--fill-color);\n",
              "    height: 32px;\n",
              "    padding: 0;\n",
              "    width: 32px;\n",
              "  }\n",
              "\n",
              "  .colab-df-quickchart:hover {\n",
              "    background-color: var(--hover-bg-color);\n",
              "    box-shadow: 0 1px 2px rgba(60, 64, 67, 0.3), 0 1px 3px 1px rgba(60, 64, 67, 0.15);\n",
              "    fill: var(--button-hover-fill-color);\n",
              "  }\n",
              "\n",
              "  .colab-df-quickchart-complete:disabled,\n",
              "  .colab-df-quickchart-complete:disabled:hover {\n",
              "    background-color: var(--disabled-bg-color);\n",
              "    fill: var(--disabled-fill-color);\n",
              "    box-shadow: none;\n",
              "  }\n",
              "\n",
              "  .colab-df-spinner {\n",
              "    border: 2px solid var(--fill-color);\n",
              "    border-color: transparent;\n",
              "    border-bottom-color: var(--fill-color);\n",
              "    animation:\n",
              "      spin 1s steps(1) infinite;\n",
              "  }\n",
              "\n",
              "  @keyframes spin {\n",
              "    0% {\n",
              "      border-color: transparent;\n",
              "      border-bottom-color: var(--fill-color);\n",
              "      border-left-color: var(--fill-color);\n",
              "    }\n",
              "    20% {\n",
              "      border-color: transparent;\n",
              "      border-left-color: var(--fill-color);\n",
              "      border-top-color: var(--fill-color);\n",
              "    }\n",
              "    30% {\n",
              "      border-color: transparent;\n",
              "      border-left-color: var(--fill-color);\n",
              "      border-top-color: var(--fill-color);\n",
              "      border-right-color: var(--fill-color);\n",
              "    }\n",
              "    40% {\n",
              "      border-color: transparent;\n",
              "      border-right-color: var(--fill-color);\n",
              "      border-top-color: var(--fill-color);\n",
              "    }\n",
              "    60% {\n",
              "      border-color: transparent;\n",
              "      border-right-color: var(--fill-color);\n",
              "    }\n",
              "    80% {\n",
              "      border-color: transparent;\n",
              "      border-right-color: var(--fill-color);\n",
              "      border-bottom-color: var(--fill-color);\n",
              "    }\n",
              "    90% {\n",
              "      border-color: transparent;\n",
              "      border-bottom-color: var(--fill-color);\n",
              "    }\n",
              "  }\n",
              "</style>\n",
              "\n",
              "      <script>\n",
              "        async function quickchart(key) {\n",
              "          const quickchartButtonEl =\n",
              "            document.querySelector('#' + key + ' button');\n",
              "          quickchartButtonEl.disabled = true;  // To prevent multiple clicks.\n",
              "          quickchartButtonEl.classList.add('colab-df-spinner');\n",
              "          try {\n",
              "            const charts = await google.colab.kernel.invokeFunction(\n",
              "                'suggestCharts', [key], {});\n",
              "          } catch (error) {\n",
              "            console.error('Error during call to suggestCharts:', error);\n",
              "          }\n",
              "          quickchartButtonEl.classList.remove('colab-df-spinner');\n",
              "          quickchartButtonEl.classList.add('colab-df-quickchart-complete');\n",
              "        }\n",
              "        (() => {\n",
              "          let quickchartButtonEl =\n",
              "            document.querySelector('#df-2a8476d5-99b5-48e7-8474-cba86a1c0a95 button');\n",
              "          quickchartButtonEl.style.display =\n",
              "            google.colab.kernel.accessAllowed ? 'block' : 'none';\n",
              "        })();\n",
              "      </script>\n",
              "    </div>\n",
              "    </div>\n",
              "  </div>\n"
            ],
            "application/vnd.google.colaboratory.intrinsic+json": {
              "type": "dataframe",
              "variable_name": "train_features"
            }
          },
          "metadata": {},
          "execution_count": 11
        }
      ],
      "source": [
        "train_features.head(2)"
      ]
    },
    {
      "cell_type": "code",
      "execution_count": null,
      "metadata": {
        "execution": {
          "iopub.execute_input": "2025-03-27T19:03:13.537707Z",
          "iopub.status.busy": "2025-03-27T19:03:13.537264Z",
          "iopub.status.idle": "2025-03-27T19:03:13.548788Z",
          "shell.execute_reply": "2025-03-27T19:03:13.547261Z",
          "shell.execute_reply.started": "2025-03-27T19:03:13.537674Z"
        },
        "trusted": true,
        "colab": {
          "base_uri": "https://localhost:8080/",
          "height": 143
        },
        "id": "YGsYPtSglRSw",
        "outputId": "8c3a20ba-11ae-4eea-aca9-ac9272a6775a"
      },
      "outputs": [
        {
          "output_type": "execute_result",
          "data": {
            "text/plain": [
              "                                  game_time  radiant_win  duration  \\\n",
              "match_id_hash                                                        \n",
              "a400b8f29dece5f4d266f49f1ae2e98a        155        False       992   \n",
              "b9c57c450ce74a2af79c9ce96fac144d        658         True      1154   \n",
              "\n",
              "                                  time_remaining next_roshan_team  \n",
              "match_id_hash                                                      \n",
              "a400b8f29dece5f4d266f49f1ae2e98a             837              NaN  \n",
              "b9c57c450ce74a2af79c9ce96fac144d             496              NaN  "
            ],
            "text/html": [
              "\n",
              "  <div id=\"df-b116c928-0bd0-4637-86b9-fb3e932047b6\" class=\"colab-df-container\">\n",
              "    <div>\n",
              "<style scoped>\n",
              "    .dataframe tbody tr th:only-of-type {\n",
              "        vertical-align: middle;\n",
              "    }\n",
              "\n",
              "    .dataframe tbody tr th {\n",
              "        vertical-align: top;\n",
              "    }\n",
              "\n",
              "    .dataframe thead th {\n",
              "        text-align: right;\n",
              "    }\n",
              "</style>\n",
              "<table border=\"1\" class=\"dataframe\">\n",
              "  <thead>\n",
              "    <tr style=\"text-align: right;\">\n",
              "      <th></th>\n",
              "      <th>game_time</th>\n",
              "      <th>radiant_win</th>\n",
              "      <th>duration</th>\n",
              "      <th>time_remaining</th>\n",
              "      <th>next_roshan_team</th>\n",
              "    </tr>\n",
              "    <tr>\n",
              "      <th>match_id_hash</th>\n",
              "      <th></th>\n",
              "      <th></th>\n",
              "      <th></th>\n",
              "      <th></th>\n",
              "      <th></th>\n",
              "    </tr>\n",
              "  </thead>\n",
              "  <tbody>\n",
              "    <tr>\n",
              "      <th>a400b8f29dece5f4d266f49f1ae2e98a</th>\n",
              "      <td>155</td>\n",
              "      <td>False</td>\n",
              "      <td>992</td>\n",
              "      <td>837</td>\n",
              "      <td>NaN</td>\n",
              "    </tr>\n",
              "    <tr>\n",
              "      <th>b9c57c450ce74a2af79c9ce96fac144d</th>\n",
              "      <td>658</td>\n",
              "      <td>True</td>\n",
              "      <td>1154</td>\n",
              "      <td>496</td>\n",
              "      <td>NaN</td>\n",
              "    </tr>\n",
              "  </tbody>\n",
              "</table>\n",
              "</div>\n",
              "    <div class=\"colab-df-buttons\">\n",
              "\n",
              "  <div class=\"colab-df-container\">\n",
              "    <button class=\"colab-df-convert\" onclick=\"convertToInteractive('df-b116c928-0bd0-4637-86b9-fb3e932047b6')\"\n",
              "            title=\"Convert this dataframe to an interactive table.\"\n",
              "            style=\"display:none;\">\n",
              "\n",
              "  <svg xmlns=\"http://www.w3.org/2000/svg\" height=\"24px\" viewBox=\"0 -960 960 960\">\n",
              "    <path d=\"M120-120v-720h720v720H120Zm60-500h600v-160H180v160Zm220 220h160v-160H400v160Zm0 220h160v-160H400v160ZM180-400h160v-160H180v160Zm440 0h160v-160H620v160ZM180-180h160v-160H180v160Zm440 0h160v-160H620v160Z\"/>\n",
              "  </svg>\n",
              "    </button>\n",
              "\n",
              "  <style>\n",
              "    .colab-df-container {\n",
              "      display:flex;\n",
              "      gap: 12px;\n",
              "    }\n",
              "\n",
              "    .colab-df-convert {\n",
              "      background-color: #E8F0FE;\n",
              "      border: none;\n",
              "      border-radius: 50%;\n",
              "      cursor: pointer;\n",
              "      display: none;\n",
              "      fill: #1967D2;\n",
              "      height: 32px;\n",
              "      padding: 0 0 0 0;\n",
              "      width: 32px;\n",
              "    }\n",
              "\n",
              "    .colab-df-convert:hover {\n",
              "      background-color: #E2EBFA;\n",
              "      box-shadow: 0px 1px 2px rgba(60, 64, 67, 0.3), 0px 1px 3px 1px rgba(60, 64, 67, 0.15);\n",
              "      fill: #174EA6;\n",
              "    }\n",
              "\n",
              "    .colab-df-buttons div {\n",
              "      margin-bottom: 4px;\n",
              "    }\n",
              "\n",
              "    [theme=dark] .colab-df-convert {\n",
              "      background-color: #3B4455;\n",
              "      fill: #D2E3FC;\n",
              "    }\n",
              "\n",
              "    [theme=dark] .colab-df-convert:hover {\n",
              "      background-color: #434B5C;\n",
              "      box-shadow: 0px 1px 3px 1px rgba(0, 0, 0, 0.15);\n",
              "      filter: drop-shadow(0px 1px 2px rgba(0, 0, 0, 0.3));\n",
              "      fill: #FFFFFF;\n",
              "    }\n",
              "  </style>\n",
              "\n",
              "    <script>\n",
              "      const buttonEl =\n",
              "        document.querySelector('#df-b116c928-0bd0-4637-86b9-fb3e932047b6 button.colab-df-convert');\n",
              "      buttonEl.style.display =\n",
              "        google.colab.kernel.accessAllowed ? 'block' : 'none';\n",
              "\n",
              "      async function convertToInteractive(key) {\n",
              "        const element = document.querySelector('#df-b116c928-0bd0-4637-86b9-fb3e932047b6');\n",
              "        const dataTable =\n",
              "          await google.colab.kernel.invokeFunction('convertToInteractive',\n",
              "                                                    [key], {});\n",
              "        if (!dataTable) return;\n",
              "\n",
              "        const docLinkHtml = 'Like what you see? Visit the ' +\n",
              "          '<a target=\"_blank\" href=https://colab.research.google.com/notebooks/data_table.ipynb>data table notebook</a>'\n",
              "          + ' to learn more about interactive tables.';\n",
              "        element.innerHTML = '';\n",
              "        dataTable['output_type'] = 'display_data';\n",
              "        await google.colab.output.renderOutput(dataTable, element);\n",
              "        const docLink = document.createElement('div');\n",
              "        docLink.innerHTML = docLinkHtml;\n",
              "        element.appendChild(docLink);\n",
              "      }\n",
              "    </script>\n",
              "  </div>\n",
              "\n",
              "\n",
              "    <div id=\"df-9756ea4d-9f6d-4831-b9c8-b0425dec7d0b\">\n",
              "      <button class=\"colab-df-quickchart\" onclick=\"quickchart('df-9756ea4d-9f6d-4831-b9c8-b0425dec7d0b')\"\n",
              "                title=\"Suggest charts\"\n",
              "                style=\"display:none;\">\n",
              "\n",
              "<svg xmlns=\"http://www.w3.org/2000/svg\" height=\"24px\"viewBox=\"0 0 24 24\"\n",
              "     width=\"24px\">\n",
              "    <g>\n",
              "        <path d=\"M19 3H5c-1.1 0-2 .9-2 2v14c0 1.1.9 2 2 2h14c1.1 0 2-.9 2-2V5c0-1.1-.9-2-2-2zM9 17H7v-7h2v7zm4 0h-2V7h2v10zm4 0h-2v-4h2v4z\"/>\n",
              "    </g>\n",
              "</svg>\n",
              "      </button>\n",
              "\n",
              "<style>\n",
              "  .colab-df-quickchart {\n",
              "      --bg-color: #E8F0FE;\n",
              "      --fill-color: #1967D2;\n",
              "      --hover-bg-color: #E2EBFA;\n",
              "      --hover-fill-color: #174EA6;\n",
              "      --disabled-fill-color: #AAA;\n",
              "      --disabled-bg-color: #DDD;\n",
              "  }\n",
              "\n",
              "  [theme=dark] .colab-df-quickchart {\n",
              "      --bg-color: #3B4455;\n",
              "      --fill-color: #D2E3FC;\n",
              "      --hover-bg-color: #434B5C;\n",
              "      --hover-fill-color: #FFFFFF;\n",
              "      --disabled-bg-color: #3B4455;\n",
              "      --disabled-fill-color: #666;\n",
              "  }\n",
              "\n",
              "  .colab-df-quickchart {\n",
              "    background-color: var(--bg-color);\n",
              "    border: none;\n",
              "    border-radius: 50%;\n",
              "    cursor: pointer;\n",
              "    display: none;\n",
              "    fill: var(--fill-color);\n",
              "    height: 32px;\n",
              "    padding: 0;\n",
              "    width: 32px;\n",
              "  }\n",
              "\n",
              "  .colab-df-quickchart:hover {\n",
              "    background-color: var(--hover-bg-color);\n",
              "    box-shadow: 0 1px 2px rgba(60, 64, 67, 0.3), 0 1px 3px 1px rgba(60, 64, 67, 0.15);\n",
              "    fill: var(--button-hover-fill-color);\n",
              "  }\n",
              "\n",
              "  .colab-df-quickchart-complete:disabled,\n",
              "  .colab-df-quickchart-complete:disabled:hover {\n",
              "    background-color: var(--disabled-bg-color);\n",
              "    fill: var(--disabled-fill-color);\n",
              "    box-shadow: none;\n",
              "  }\n",
              "\n",
              "  .colab-df-spinner {\n",
              "    border: 2px solid var(--fill-color);\n",
              "    border-color: transparent;\n",
              "    border-bottom-color: var(--fill-color);\n",
              "    animation:\n",
              "      spin 1s steps(1) infinite;\n",
              "  }\n",
              "\n",
              "  @keyframes spin {\n",
              "    0% {\n",
              "      border-color: transparent;\n",
              "      border-bottom-color: var(--fill-color);\n",
              "      border-left-color: var(--fill-color);\n",
              "    }\n",
              "    20% {\n",
              "      border-color: transparent;\n",
              "      border-left-color: var(--fill-color);\n",
              "      border-top-color: var(--fill-color);\n",
              "    }\n",
              "    30% {\n",
              "      border-color: transparent;\n",
              "      border-left-color: var(--fill-color);\n",
              "      border-top-color: var(--fill-color);\n",
              "      border-right-color: var(--fill-color);\n",
              "    }\n",
              "    40% {\n",
              "      border-color: transparent;\n",
              "      border-right-color: var(--fill-color);\n",
              "      border-top-color: var(--fill-color);\n",
              "    }\n",
              "    60% {\n",
              "      border-color: transparent;\n",
              "      border-right-color: var(--fill-color);\n",
              "    }\n",
              "    80% {\n",
              "      border-color: transparent;\n",
              "      border-right-color: var(--fill-color);\n",
              "      border-bottom-color: var(--fill-color);\n",
              "    }\n",
              "    90% {\n",
              "      border-color: transparent;\n",
              "      border-bottom-color: var(--fill-color);\n",
              "    }\n",
              "  }\n",
              "</style>\n",
              "\n",
              "      <script>\n",
              "        async function quickchart(key) {\n",
              "          const quickchartButtonEl =\n",
              "            document.querySelector('#' + key + ' button');\n",
              "          quickchartButtonEl.disabled = true;  // To prevent multiple clicks.\n",
              "          quickchartButtonEl.classList.add('colab-df-spinner');\n",
              "          try {\n",
              "            const charts = await google.colab.kernel.invokeFunction(\n",
              "                'suggestCharts', [key], {});\n",
              "          } catch (error) {\n",
              "            console.error('Error during call to suggestCharts:', error);\n",
              "          }\n",
              "          quickchartButtonEl.classList.remove('colab-df-spinner');\n",
              "          quickchartButtonEl.classList.add('colab-df-quickchart-complete');\n",
              "        }\n",
              "        (() => {\n",
              "          let quickchartButtonEl =\n",
              "            document.querySelector('#df-9756ea4d-9f6d-4831-b9c8-b0425dec7d0b button');\n",
              "          quickchartButtonEl.style.display =\n",
              "            google.colab.kernel.accessAllowed ? 'block' : 'none';\n",
              "        })();\n",
              "      </script>\n",
              "    </div>\n",
              "    </div>\n",
              "  </div>\n"
            ],
            "application/vnd.google.colaboratory.intrinsic+json": {
              "type": "dataframe",
              "variable_name": "train_targets",
              "summary": "{\n  \"name\": \"train_targets\",\n  \"rows\": 39675,\n  \"fields\": [\n    {\n      \"column\": \"match_id_hash\",\n      \"properties\": {\n        \"dtype\": \"string\",\n        \"num_unique_values\": 39675,\n        \"samples\": [\n          \"a67936ca15898ed9d2b935f494810888\",\n          \"f6c9778fcca54e78ab91c55b11f9de08\",\n          \"a771f5276df0585d95482245d1bdc62c\"\n        ],\n        \"semantic_type\": \"\",\n        \"description\": \"\"\n      }\n    },\n    {\n      \"column\": \"game_time\",\n      \"properties\": {\n        \"dtype\": \"number\",\n        \"std\": 767,\n        \"min\": 0,\n        \"max\": 4933,\n        \"num_unique_values\": 3417,\n        \"samples\": [\n          2600,\n          111,\n          267\n        ],\n        \"semantic_type\": \"\",\n        \"description\": \"\"\n      }\n    },\n    {\n      \"column\": \"radiant_win\",\n      \"properties\": {\n        \"dtype\": \"boolean\",\n        \"num_unique_values\": 2,\n        \"samples\": [\n          true,\n          false\n        ],\n        \"semantic_type\": \"\",\n        \"description\": \"\"\n      }\n    },\n    {\n      \"column\": \"duration\",\n      \"properties\": {\n        \"dtype\": \"number\",\n        \"std\": 671,\n        \"min\": 901,\n        \"max\": 5638,\n        \"num_unique_values\": 3484,\n        \"samples\": [\n          3473,\n          2074\n        ],\n        \"semantic_type\": \"\",\n        \"description\": \"\"\n      }\n    },\n    {\n      \"column\": \"time_remaining\",\n      \"properties\": {\n        \"dtype\": \"number\",\n        \"std\": 770,\n        \"min\": 31,\n        \"max\": 5108,\n        \"num_unique_values\": 3450,\n        \"samples\": [\n          1657,\n          1975\n        ],\n        \"semantic_type\": \"\",\n        \"description\": \"\"\n      }\n    },\n    {\n      \"column\": \"next_roshan_team\",\n      \"properties\": {\n        \"dtype\": \"category\",\n        \"num_unique_values\": 2,\n        \"samples\": [\n          \"Dire\",\n          \"Radiant\"\n        ],\n        \"semantic_type\": \"\",\n        \"description\": \"\"\n      }\n    }\n  ]\n}"
            }
          },
          "metadata": {},
          "execution_count": 12
        }
      ],
      "source": [
        "train_targets.head(2)"
      ]
    },
    {
      "cell_type": "code",
      "execution_count": null,
      "metadata": {
        "execution": {
          "iopub.execute_input": "2025-03-27T19:03:15.210004Z",
          "iopub.status.busy": "2025-03-27T19:03:15.209628Z",
          "iopub.status.idle": "2025-03-27T19:03:15.215983Z",
          "shell.execute_reply": "2025-03-27T19:03:15.214279Z",
          "shell.execute_reply.started": "2025-03-27T19:03:15.209975Z"
        },
        "trusted": true,
        "id": "9-StCwnOlRSw",
        "colab": {
          "base_uri": "https://localhost:8080/"
        },
        "outputId": "ba9013a7-3385-45e4-e5c2-3bd388771919"
      },
      "outputs": [
        {
          "output_type": "execute_result",
          "data": {
            "text/plain": [
              "(39675, 245)"
            ]
          },
          "metadata": {},
          "execution_count": 9
        }
      ],
      "source": [
        "X = train_features\n",
        "\n",
        "y = train_targets['radiant_win']\n",
        "y = y.astype(int)\n",
        "\n",
        "X.shape"
      ]
    },
    {
      "cell_type": "markdown",
      "metadata": {
        "id": "Txc0MNqslRSw"
      },
      "source": [
        "# EDA (5 баллов)"
      ]
    },
    {
      "cell_type": "code",
      "execution_count": null,
      "metadata": {
        "execution": {
          "iopub.execute_input": "2025-03-27T19:03:16.641318Z",
          "iopub.status.busy": "2025-03-27T19:03:16.640954Z",
          "iopub.status.idle": "2025-03-27T19:03:16.889076Z",
          "shell.execute_reply": "2025-03-27T19:03:16.887856Z",
          "shell.execute_reply.started": "2025-03-27T19:03:16.641289Z"
        },
        "trusted": true,
        "id": "q8mfyvA1lRSw",
        "outputId": "797bdc22-10b0-4635-80ff-2ceaa251c378"
      },
      "outputs": [
        {
          "data": {
            "image/png": "[encoded data removed]",
            "text/plain": [
              "<Figure size 640x480 with 1 Axes>"
            ]
          },
          "metadata": {},
          "output_type": "display_data"
        }
      ],
      "source": [
        "# тут EDA, который вы считаете необходимым, например, изучим количество игр в разных режимах"
      ]
    },
    {
      "cell_type": "code",
      "execution_count": null,
      "metadata": {
        "execution": {
          "iopub.execute_input": "2025-03-27T19:03:17.242473Z",
          "iopub.status.busy": "2025-03-27T19:03:17.242062Z",
          "iopub.status.idle": "2025-03-27T19:03:17.485073Z",
          "shell.execute_reply": "2025-03-27T19:03:17.483855Z",
          "shell.execute_reply.started": "2025-03-27T19:03:17.242427Z"
        },
        "trusted": true,
        "id": "HJPB2m7KlRSx",
        "outputId": "949d7da4-a1b3-4ac8-d392-5b64b51cec81"
      },
      "outputs": [
        {
          "data": {
            "image/png": "[encoded data removed]",
            "text/plain": [
              "<Figure size 640x480 with 1 Axes>"
            ]
          },
          "metadata": {},
          "output_type": "display_data"
        }
      ],
      "source": [
        "# посмотрим распределение таргета"
      ]
    },
    {
      "cell_type": "markdown",
      "source": [
        "#У меня есть пару теорий относительно корреляции между победой и определенными фичами. Дота - в первую очередь про экономику\n",
        "#Networth (или gold в датасете) игроков на 1,2,3 позициях - ключевой фактор каждой победы. Если говорить про 4 и 5, то можно\n",
        "#анализировать их r_support и опсы с вардами ( в колличественном эквиваленте)"
      ],
      "metadata": {
        "id": "SWYgienL1pG5"
      }
    },
    {
      "cell_type": "code",
      "source": [
        "\n",
        "import matplotlib.pyplot as plt\n",
        "import numpy as np\n",
        "\n",
        "#X = X.loc[X['r1_gold'] < 10000] #уберем шума\n",
        "#y = y.iloc[:X.shape[0]]\n",
        "\n",
        "plt.figure(figsize=(10, 6))\n",
        "plt.scatter(X['r1_gold'], y, alpha=0.6)\n",
        "plt.title('Корреляция между нетворсом керри и целевой победой')\n",
        "plt.xlabel('r1_gold')\n",
        "plt.ylabel('victory')\n",
        "plt.grid(True)\n",
        "\n",
        "\n",
        "z = np.polyfit(X['r1_gold'], y, 1)\n",
        "p = np.poly1d(z)\n",
        "plt.plot(X['r1_gold'], p(X['r1_gold']), \"r--\")\n",
        "\n",
        "plt.show()\n"
      ],
      "metadata": {
        "colab": {
          "base_uri": "https://localhost:8080/",
          "height": 438
        },
        "id": "22UcdywK1PAx",
        "outputId": "dedbdea9-d441-415d-b618-05fe3f1016e0"
      },
      "execution_count": null,
      "outputs": [
        {
          "output_type": "display_data",
          "data": {
            "text/plain": [
              "<Figure size 1000x600 with 1 Axes>"
            ],
            "image/png": "[encoded data removed]"
          },
          "metadata": {}
        }
      ]
    },
    {
      "cell_type": "code",
      "source": [
        "import matplotlib.pyplot as plt\n",
        "import numpy as np\n",
        "\n",
        "\n",
        "plt.figure(figsize=(10, 6))\n",
        "plt.scatter(X['r2_lh'], y, alpha=0.6)\n",
        "plt.title('Корреляция между крипстатом мидера и целевой победой')\n",
        "plt.xlabel('r2_lh')\n",
        "plt.ylabel('victory')\n",
        "plt.grid(True)\n",
        "\n",
        "\n",
        "z = np.polyfit(X['r2_lh'], y, 1)\n",
        "p = np.poly1d(z)\n",
        "plt.plot(X['r2_lh'], p(X['r2_lh']), \"r--\")\n",
        "\n",
        "plt.show()"
      ],
      "metadata": {
        "colab": {
          "base_uri": "https://localhost:8080/",
          "height": 564
        },
        "id": "f_mnsyra1unQ",
        "outputId": "d71bd92d-e769-43ff-b855-561a40e5f192"
      },
      "execution_count": null,
      "outputs": [
        {
          "output_type": "display_data",
          "data": {
            "text/plain": [
              "<Figure size 1000x600 with 1 Axes>"
            ],
            "image/png": "[encoded data removed]"
          },
          "metadata": {}
        }
      ]
    },
    {
      "cell_type": "markdown",
      "source": [
        "Интересно, но между участием керри и победой в драках нет зависимости"
      ],
      "metadata": {
        "id": "KKGShfcQG5Ra"
      }
    },
    {
      "cell_type": "code",
      "source": [
        "import matplotlib.pyplot as plt\n",
        "import numpy as np\n",
        "\n",
        "\n",
        "X = X.loc[X['r1_teamfight_participation'] < 1.00]\n",
        "y = y.iloc[:X.shape[0]]\n",
        "\n",
        "plt.figure(figsize=(10, 6))\n",
        "plt.scatter(X['r1_teamfight_participation'], y, alpha=0.6)\n",
        "plt.title('Корреляция между участием керри в драках и целевой победой')\n",
        "plt.xlabel('r1_teamfight_participation')\n",
        "plt.ylabel('victory')\n",
        "plt.grid(True)\n",
        "\n",
        "\n",
        "z = np.polyfit(X['r1_teamfight_participation'], y, 1)\n",
        "p = np.poly1d(z)\n",
        "plt.plot(X['r1_teamfight_participation'], p(X['r1_teamfight_participation']), \"r--\")\n",
        "\n",
        "plt.show()"
      ],
      "metadata": {
        "colab": {
          "base_uri": "https://localhost:8080/",
          "height": 564
        },
        "id": "s5wV4p3w9Dhr",
        "outputId": "c504587f-d36d-4b92-cc01-d5b699c3108c"
      },
      "execution_count": null,
      "outputs": [
        {
          "output_type": "display_data",
          "data": {
            "text/plain": [
              "<Figure size 1000x600 with 1 Axes>"
            ],
            "image/png": "[encoded data removed]"
          },
          "metadata": {}
        }
      ]
    },
    {
      "cell_type": "markdown",
      "source": [
        "Также на гистограмме можно выразить обратную зависимость побед сил света и величины тех же метрик, что и сверху, но у вражеских героев\n"
      ],
      "metadata": {
        "id": "nmJs9Kb67asH"
      }
    },
    {
      "cell_type": "code",
      "source": [
        "import matplotlib.pyplot as plt\n",
        "import numpy as np\n",
        "import seaborn as sns\n",
        "\n",
        "sns.histplot(data=X, x=X['d1_gold'], hue=y,\n",
        "             bins=20, stat='probability', common_norm=False, alpha=0.5)\n",
        "plt.title('Распределение нетворса вражеского керри для побед/поражений')\n",
        "\n",
        "plt.show()"
      ],
      "metadata": {
        "colab": {
          "base_uri": "https://localhost:8080/",
          "height": 472
        },
        "id": "ya6NKWhD6Bxs",
        "outputId": "37b2c3da-fe6c-4436-da1e-8e544c293cf3"
      },
      "execution_count": null,
      "outputs": [
        {
          "output_type": "display_data",
          "data": {
            "text/plain": [
              "<Figure size 640x480 with 1 Axes>"
            ],
            "image/png": "[encoded data removed]"
          },
          "metadata": {}
        }
      ]
    },
    {
      "cell_type": "code",
      "source": [
        "import matplotlib.pyplot as plt\n",
        "import numpy as np\n",
        "import seaborn as sns\n",
        "\n",
        "sns.histplot(data=X, x=X['d2_lh'], hue=y,\n",
        "             bins=20, stat='probability', common_norm=False, alpha=0.5)\n",
        "plt.title('Распределение нетворса вражеского керри для побед/поражений')\n",
        "\n",
        "plt.show()"
      ],
      "metadata": {
        "colab": {
          "base_uri": "https://localhost:8080/",
          "height": 472
        },
        "id": "H26_Ubsm7ytd",
        "outputId": "bde61a5a-865f-4e9a-8849-f76887067bbd"
      },
      "execution_count": null,
      "outputs": [
        {
          "output_type": "display_data",
          "data": {
            "text/plain": [
              "<Figure size 640x480 with 1 Axes>"
            ],
            "image/png": "[encoded data removed]"
          },
          "metadata": {}
        }
      ]
    },
    {
      "cell_type": "markdown",
      "source": [
        "Добавим теперь нормальный EDA\n",
        "1. Гистограммы для анализа распределения фич\n",
        "2. Боксплоты для анализа выбросов"
      ],
      "metadata": {
        "id": "bv3JmwchHA5k"
      }
    },
    {
      "cell_type": "code",
      "source": [
        "import seaborn as sns\n",
        "sns.histplot(data=X, x=X[\"r1_deaths\"], kde=True)\n",
        "sns.histplot(data=X, x=X[\"r2_deaths\"], kde=True,alpha=0.9)\n",
        "sns.histplot(data=X, x=X[\"r3_deaths\"], kde=True,alpha=0.5)\n",
        "sns.histplot(data=X, x=X[\"r4_deaths\"], kde=True,alpha=0.3)\n",
        "sns.histplot(data=X, x=X[\"r5_deaths\"], kde=True,alpha=0.1)\n",
        "plt.xlabel('Смерти')\n",
        "plt.show"
      ],
      "metadata": {
        "colab": {
          "base_uri": "https://localhost:8080/",
          "height": 618
        },
        "id": "j9wmpitgJHWI",
        "outputId": "5cad20c3-680a-4e1d-e03c-fff3b3d2c99d"
      },
      "execution_count": null,
      "outputs": [
        {
          "output_type": "execute_result",
          "data": {
            "text/plain": [
              "<function matplotlib.pyplot.show(close=None, block=None)>"
            ],
            "text/html": [
              "<div style=\"max-width:800px; border: 1px solid var(--colab-border-color);\"><style>\n",
              "      pre.function-repr-contents {\n",
              "        overflow-x: auto;\n",
              "        padding: 8px 12px;\n",
              "        max-height: 500px;\n",
              "      }\n",
              "\n",
              "      pre.function-repr-contents.function-repr-contents-collapsed {\n",
              "        cursor: pointer;\n",
              "        max-height: 100px;\n",
              "      }\n",
              "    </style>\n",
              "    <pre style=\"white-space: initial; background:\n",
              "         var(--colab-secondary-surface-color); padding: 8px 12px;\n",
              "         border-bottom: 1px solid var(--colab-border-color);\"><b>matplotlib.pyplot.show</b><br/>def show(*args, **kwargs) -&gt; None</pre><pre class=\"function-repr-contents function-repr-contents-collapsed\" style=\"\"><a class=\"filepath\" style=\"display:none\" href=\"#\">/usr/local/lib/python3.11/dist-packages/matplotlib/pyplot.py</a>Display all open figures.\n",
              "\n",
              "Parameters\n",
              "----------\n",
              "block : bool, optional\n",
              "    Whether to wait for all figures to be closed before returning.\n",
              "\n",
              "    If `True` block and run the GUI main loop until all figure windows\n",
              "    are closed.\n",
              "\n",
              "    If `False` ensure that all figure windows are displayed and return\n",
              "    immediately.  In this case, you are responsible for ensuring\n",
              "    that the event loop is running to have responsive figures.\n",
              "\n",
              "    Defaults to True in non-interactive mode and to False in interactive\n",
              "    mode (see `.pyplot.isinteractive`).\n",
              "\n",
              "See Also\n",
              "--------\n",
              "ion : Enable interactive mode, which shows / updates the figure after\n",
              "      every plotting command, so that calling ``show()`` is not necessary.\n",
              "ioff : Disable interactive mode.\n",
              "savefig : Save the figure to an image file instead of showing it on screen.\n",
              "\n",
              "Notes\n",
              "-----\n",
              "**Saving figures to file and showing a window at the same time**\n",
              "\n",
              "If you want an image file as well as a user interface window, use\n",
              "`.pyplot.savefig` before `.pyplot.show`. At the end of (a blocking)\n",
              "``show()`` the figure is closed and thus unregistered from pyplot. Calling\n",
              "`.pyplot.savefig` afterwards would save a new and thus empty figure. This\n",
              "limitation of command order does not apply if the show is non-blocking or\n",
              "if you keep a reference to the figure and use `.Figure.savefig`.\n",
              "\n",
              "**Auto-show in jupyter notebooks**\n",
              "\n",
              "The jupyter backends (activated via ``%matplotlib inline``,\n",
              "``%matplotlib notebook``, or ``%matplotlib widget``), call ``show()`` at\n",
              "the end of every cell by default. Thus, you usually don&#x27;t have to call it\n",
              "explicitly there.</pre>\n",
              "      <script>\n",
              "      if (google.colab.kernel.accessAllowed && google.colab.files && google.colab.files.view) {\n",
              "        for (const element of document.querySelectorAll('.filepath')) {\n",
              "          element.style.display = 'block'\n",
              "          element.onclick = (event) => {\n",
              "            event.preventDefault();\n",
              "            event.stopPropagation();\n",
              "            google.colab.files.view(element.textContent, 569);\n",
              "          };\n",
              "        }\n",
              "      }\n",
              "      for (const element of document.querySelectorAll('.function-repr-contents')) {\n",
              "        element.onclick = (event) => {\n",
              "          event.preventDefault();\n",
              "          event.stopPropagation();\n",
              "          element.classList.toggle('function-repr-contents-collapsed');\n",
              "        };\n",
              "      }\n",
              "      </script>\n",
              "      </div>"
            ]
          },
          "metadata": {},
          "execution_count": 132
        },
        {
          "output_type": "display_data",
          "data": {
            "text/plain": [
              "<Figure size 640x480 with 1 Axes>"
            ],
            "image/png": "[encoded data removed]"
          },
          "metadata": {}
        }
      ]
    },
    {
      "cell_type": "code",
      "source": [
        "import seaborn as sns\n",
        "sns.histplot(data=X, x=X[\"r1_kills\"], kde=True)\n",
        "sns.histplot(data=X, x=X[\"r2_kills\"], kde=True,alpha=0.9)\n",
        "sns.histplot(data=X, x=X[\"r3_kills\"], kde=True,alpha=0.5)\n",
        "sns.histplot(data=X, x=X[\"r4_kills\"], kde=True,alpha=0.3)\n",
        "sns.histplot(data=X, x=X[\"r5_kills\"], kde=True,alpha=0.1)\n",
        "plt.xlabel('Убийства')\n",
        "plt.show"
      ],
      "metadata": {
        "colab": {
          "base_uri": "https://localhost:8080/",
          "height": 618
        },
        "id": "MWxav9R1MHtr",
        "outputId": "f963a22e-3c09-45d4-97d7-c6a8a1e63b8a"
      },
      "execution_count": null,
      "outputs": [
        {
          "output_type": "execute_result",
          "data": {
            "text/plain": [
              "<function matplotlib.pyplot.show(close=None, block=None)>"
            ],
            "text/html": [
              "<div style=\"max-width:800px; border: 1px solid var(--colab-border-color);\"><style>\n",
              "      pre.function-repr-contents {\n",
              "        overflow-x: auto;\n",
              "        padding: 8px 12px;\n",
              "        max-height: 500px;\n",
              "      }\n",
              "\n",
              "      pre.function-repr-contents.function-repr-contents-collapsed {\n",
              "        cursor: pointer;\n",
              "        max-height: 100px;\n",
              "      }\n",
              "    </style>\n",
              "    <pre style=\"white-space: initial; background:\n",
              "         var(--colab-secondary-surface-color); padding: 8px 12px;\n",
              "         border-bottom: 1px solid var(--colab-border-color);\"><b>matplotlib.pyplot.show</b><br/>def show(*args, **kwargs) -&gt; None</pre><pre class=\"function-repr-contents function-repr-contents-collapsed\" style=\"\"><a class=\"filepath\" style=\"display:none\" href=\"#\">/usr/local/lib/python3.11/dist-packages/matplotlib/pyplot.py</a>Display all open figures.\n",
              "\n",
              "Parameters\n",
              "----------\n",
              "block : bool, optional\n",
              "    Whether to wait for all figures to be closed before returning.\n",
              "\n",
              "    If `True` block and run the GUI main loop until all figure windows\n",
              "    are closed.\n",
              "\n",
              "    If `False` ensure that all figure windows are displayed and return\n",
              "    immediately.  In this case, you are responsible for ensuring\n",
              "    that the event loop is running to have responsive figures.\n",
              "\n",
              "    Defaults to True in non-interactive mode and to False in interactive\n",
              "    mode (see `.pyplot.isinteractive`).\n",
              "\n",
              "See Also\n",
              "--------\n",
              "ion : Enable interactive mode, which shows / updates the figure after\n",
              "      every plotting command, so that calling ``show()`` is not necessary.\n",
              "ioff : Disable interactive mode.\n",
              "savefig : Save the figure to an image file instead of showing it on screen.\n",
              "\n",
              "Notes\n",
              "-----\n",
              "**Saving figures to file and showing a window at the same time**\n",
              "\n",
              "If you want an image file as well as a user interface window, use\n",
              "`.pyplot.savefig` before `.pyplot.show`. At the end of (a blocking)\n",
              "``show()`` the figure is closed and thus unregistered from pyplot. Calling\n",
              "`.pyplot.savefig` afterwards would save a new and thus empty figure. This\n",
              "limitation of command order does not apply if the show is non-blocking or\n",
              "if you keep a reference to the figure and use `.Figure.savefig`.\n",
              "\n",
              "**Auto-show in jupyter notebooks**\n",
              "\n",
              "The jupyter backends (activated via ``%matplotlib inline``,\n",
              "``%matplotlib notebook``, or ``%matplotlib widget``), call ``show()`` at\n",
              "the end of every cell by default. Thus, you usually don&#x27;t have to call it\n",
              "explicitly there.</pre>\n",
              "      <script>\n",
              "      if (google.colab.kernel.accessAllowed && google.colab.files && google.colab.files.view) {\n",
              "        for (const element of document.querySelectorAll('.filepath')) {\n",
              "          element.style.display = 'block'\n",
              "          element.onclick = (event) => {\n",
              "            event.preventDefault();\n",
              "            event.stopPropagation();\n",
              "            google.colab.files.view(element.textContent, 569);\n",
              "          };\n",
              "        }\n",
              "      }\n",
              "      for (const element of document.querySelectorAll('.function-repr-contents')) {\n",
              "        element.onclick = (event) => {\n",
              "          event.preventDefault();\n",
              "          event.stopPropagation();\n",
              "          element.classList.toggle('function-repr-contents-collapsed');\n",
              "        };\n",
              "      }\n",
              "      </script>\n",
              "      </div>"
            ]
          },
          "metadata": {},
          "execution_count": 134
        },
        {
          "output_type": "display_data",
          "data": {
            "text/plain": [
              "<Figure size 640x480 with 1 Axes>"
            ],
            "image/png": "[encoded data removed]"
          },
          "metadata": {}
        }
      ]
    },
    {
      "cell_type": "code",
      "source": [
        "import seaborn as sns\n",
        "sns.histplot(data=X, x=X[\"r1_assists\"], kde=True)\n",
        "sns.histplot(data=X, x=X[\"r2_assists\"], kde=True,alpha=0.9)\n",
        "sns.histplot(data=X, x=X[\"r3_assists\"], kde=True,alpha=0.5)\n",
        "sns.histplot(data=X, x=X[\"r4_assists\"], kde=True,alpha=0.3)\n",
        "sns.histplot(data=X, x=X[\"r5_assists\"], kde=True,alpha=0.1)\n",
        "plt.xlabel('Помощи')\n",
        "plt.show"
      ],
      "metadata": {
        "colab": {
          "base_uri": "https://localhost:8080/",
          "height": 618
        },
        "id": "m3epR8uBMQ43",
        "outputId": "a647cd01-88c1-4a92-fc21-78320c628240"
      },
      "execution_count": null,
      "outputs": [
        {
          "output_type": "execute_result",
          "data": {
            "text/plain": [
              "<function matplotlib.pyplot.show(close=None, block=None)>"
            ],
            "text/html": [
              "<div style=\"max-width:800px; border: 1px solid var(--colab-border-color);\"><style>\n",
              "      pre.function-repr-contents {\n",
              "        overflow-x: auto;\n",
              "        padding: 8px 12px;\n",
              "        max-height: 500px;\n",
              "      }\n",
              "\n",
              "      pre.function-repr-contents.function-repr-contents-collapsed {\n",
              "        cursor: pointer;\n",
              "        max-height: 100px;\n",
              "      }\n",
              "    </style>\n",
              "    <pre style=\"white-space: initial; background:\n",
              "         var(--colab-secondary-surface-color); padding: 8px 12px;\n",
              "         border-bottom: 1px solid var(--colab-border-color);\"><b>matplotlib.pyplot.show</b><br/>def show(*args, **kwargs) -&gt; None</pre><pre class=\"function-repr-contents function-repr-contents-collapsed\" style=\"\"><a class=\"filepath\" style=\"display:none\" href=\"#\">/usr/local/lib/python3.11/dist-packages/matplotlib/pyplot.py</a>Display all open figures.\n",
              "\n",
              "Parameters\n",
              "----------\n",
              "block : bool, optional\n",
              "    Whether to wait for all figures to be closed before returning.\n",
              "\n",
              "    If `True` block and run the GUI main loop until all figure windows\n",
              "    are closed.\n",
              "\n",
              "    If `False` ensure that all figure windows are displayed and return\n",
              "    immediately.  In this case, you are responsible for ensuring\n",
              "    that the event loop is running to have responsive figures.\n",
              "\n",
              "    Defaults to True in non-interactive mode and to False in interactive\n",
              "    mode (see `.pyplot.isinteractive`).\n",
              "\n",
              "See Also\n",
              "--------\n",
              "ion : Enable interactive mode, which shows / updates the figure after\n",
              "      every plotting command, so that calling ``show()`` is not necessary.\n",
              "ioff : Disable interactive mode.\n",
              "savefig : Save the figure to an image file instead of showing it on screen.\n",
              "\n",
              "Notes\n",
              "-----\n",
              "**Saving figures to file and showing a window at the same time**\n",
              "\n",
              "If you want an image file as well as a user interface window, use\n",
              "`.pyplot.savefig` before `.pyplot.show`. At the end of (a blocking)\n",
              "``show()`` the figure is closed and thus unregistered from pyplot. Calling\n",
              "`.pyplot.savefig` afterwards would save a new and thus empty figure. This\n",
              "limitation of command order does not apply if the show is non-blocking or\n",
              "if you keep a reference to the figure and use `.Figure.savefig`.\n",
              "\n",
              "**Auto-show in jupyter notebooks**\n",
              "\n",
              "The jupyter backends (activated via ``%matplotlib inline``,\n",
              "``%matplotlib notebook``, or ``%matplotlib widget``), call ``show()`` at\n",
              "the end of every cell by default. Thus, you usually don&#x27;t have to call it\n",
              "explicitly there.</pre>\n",
              "      <script>\n",
              "      if (google.colab.kernel.accessAllowed && google.colab.files && google.colab.files.view) {\n",
              "        for (const element of document.querySelectorAll('.filepath')) {\n",
              "          element.style.display = 'block'\n",
              "          element.onclick = (event) => {\n",
              "            event.preventDefault();\n",
              "            event.stopPropagation();\n",
              "            google.colab.files.view(element.textContent, 569);\n",
              "          };\n",
              "        }\n",
              "      }\n",
              "      for (const element of document.querySelectorAll('.function-repr-contents')) {\n",
              "        element.onclick = (event) => {\n",
              "          event.preventDefault();\n",
              "          event.stopPropagation();\n",
              "          element.classList.toggle('function-repr-contents-collapsed');\n",
              "        };\n",
              "      }\n",
              "      </script>\n",
              "      </div>"
            ]
          },
          "metadata": {},
          "execution_count": 137
        },
        {
          "output_type": "display_data",
          "data": {
            "text/plain": [
              "<Figure size 640x480 with 1 Axes>"
            ],
            "image/png": "[encoded data removed]"
          },
          "metadata": {}
        }
      ]
    },
    {
      "cell_type": "markdown",
      "source": [
        "чет мне совсем не нравится, что у всех позиций одинаковое распределение КДА"
      ],
      "metadata": {
        "id": "-7eTcpYHLFx_"
      }
    },
    {
      "cell_type": "code",
      "source": [
        "X_c = X.iloc[:,10:20]\n",
        "sns.heatmap(X_c.corr(), annot=True, cmap=\"coolwarm\")\n",
        "plt.show()"
      ],
      "metadata": {
        "colab": {
          "base_uri": "https://localhost:8080/",
          "height": 524
        },
        "id": "mSnodTpqMD0U",
        "outputId": "29107302-5b0c-48cb-a50a-4b998c75f28d"
      },
      "execution_count": null,
      "outputs": [
        {
          "output_type": "display_data",
          "data": {
            "text/plain": [
              "<Figure size 640x480 with 2 Axes>"
            ],
            "image/png": "[encoded data removed]"
          },
          "metadata": {}
        }
      ]
    },
    {
      "cell_type": "code",
      "source": [
        "sns.boxplot(data=X,x='r1_kills',y='r2_kills')"
      ],
      "metadata": {
        "colab": {
          "base_uri": "https://localhost:8080/",
          "height": 467
        },
        "id": "Z-ePkKnlNCyV",
        "outputId": "0c3505a0-522c-41d6-a468-716c591c9307"
      },
      "execution_count": null,
      "outputs": [
        {
          "output_type": "execute_result",
          "data": {
            "text/plain": [
              "<Axes: xlabel='r1_kills', ylabel='r2_kills'>"
            ]
          },
          "metadata": {},
          "execution_count": 151
        },
        {
          "output_type": "display_data",
          "data": {
            "text/plain": [
              "<Figure size 640x480 with 1 Axes>"
            ],
            "image/png": "[encoded data removed]"
          },
          "metadata": {}
        }
      ]
    },
    {
      "cell_type": "markdown",
      "metadata": {
        "id": "GvHhyiu5lRSx"
      },
      "source": [
        "# Обучим CatBoost на чистых данных и посмотрим на метрики"
      ]
    },
    {
      "cell_type": "code",
      "execution_count": null,
      "metadata": {
        "execution": {
          "iopub.execute_input": "2025-03-27T19:03:19.966512Z",
          "iopub.status.busy": "2025-03-27T19:03:19.966140Z",
          "iopub.status.idle": "2025-03-27T19:05:30.415712Z",
          "shell.execute_reply": "2025-03-27T19:05:30.414409Z",
          "shell.execute_reply.started": "2025-03-27T19:03:19.966480Z"
        },
        "trusted": true,
        "id": "bw-wT2GflRSx",
        "outputId": "5b91fcd6-5dca-4abc-8a91-6d5ab7f5083d",
        "colab": {
          "base_uri": "https://localhost:8080/",
          "height": 477
        }
      },
      "outputs": [
        {
          "output_type": "error",
          "ename": "KeyboardInterrupt",
          "evalue": "",
          "traceback": [
            "\u001b[0;31m---------------------------------------------------------------------------\u001b[0m",
            "\u001b[0;31mKeyboardInterrupt\u001b[0m                         Traceback (most recent call last)",
            "\u001b[0;32m<ipython-input-11-1ddeedb6aa96>\u001b[0m in \u001b[0;36m<cell line: 0>\u001b[0;34m()\u001b[0m\n\u001b[1;32m     13\u001b[0m         \u001b[0mthread_count\u001b[0m\u001b[0;34m=\u001b[0m\u001b[0;36m4\u001b[0m\u001b[0;34m\u001b[0m\u001b[0;34m\u001b[0m\u001b[0m\n\u001b[1;32m     14\u001b[0m     )\n\u001b[0;32m---> 15\u001b[0;31m     \u001b[0mmodel\u001b[0m\u001b[0;34m.\u001b[0m\u001b[0mfit\u001b[0m\u001b[0;34m(\u001b[0m\u001b[0mX_train\u001b[0m\u001b[0;34m,\u001b[0m \u001b[0my_train\u001b[0m\u001b[0;34m,\u001b[0m \u001b[0meval_set\u001b[0m\u001b[0;34m=\u001b[0m\u001b[0;34m(\u001b[0m\u001b[0mX_valid\u001b[0m\u001b[0;34m,\u001b[0m \u001b[0my_valid\u001b[0m\u001b[0;34m)\u001b[0m\u001b[0;34m)\u001b[0m\u001b[0;34m\u001b[0m\u001b[0;34m\u001b[0m\u001b[0m\n\u001b[0m\u001b[1;32m     16\u001b[0m \u001b[0;34m\u001b[0m\u001b[0m\n\u001b[1;32m     17\u001b[0m     \u001b[0my_pred\u001b[0m \u001b[0;34m=\u001b[0m \u001b[0mmodel\u001b[0m\u001b[0;34m.\u001b[0m\u001b[0mpredict_proba\u001b[0m\u001b[0;34m(\u001b[0m\u001b[0mX_valid\u001b[0m\u001b[0;34m)\u001b[0m\u001b[0;34m[\u001b[0m\u001b[0;34m:\u001b[0m\u001b[0;34m,\u001b[0m \u001b[0;36m1\u001b[0m\u001b[0;34m]\u001b[0m\u001b[0;34m\u001b[0m\u001b[0;34m\u001b[0m\u001b[0m\n",
            "\u001b[0;32m/usr/local/lib/python3.11/dist-packages/catboost/core.py\u001b[0m in \u001b[0;36mfit\u001b[0;34m(self, X, y, cat_features, text_features, embedding_features, graph, sample_weight, baseline, use_best_model, eval_set, verbose, logging_level, plot, plot_file, column_description, verbose_eval, metric_period, silent, early_stopping_rounds, save_snapshot, snapshot_file, snapshot_interval, init_model, callbacks, log_cout, log_cerr)\u001b[0m\n\u001b[1;32m   5243\u001b[0m             \u001b[0mCatBoostClassifier\u001b[0m\u001b[0;34m.\u001b[0m\u001b[0m_check_is_compatible_loss\u001b[0m\u001b[0;34m(\u001b[0m\u001b[0mparams\u001b[0m\u001b[0;34m[\u001b[0m\u001b[0;34m'loss_function'\u001b[0m\u001b[0;34m]\u001b[0m\u001b[0;34m)\u001b[0m\u001b[0;34m\u001b[0m\u001b[0;34m\u001b[0m\u001b[0m\n\u001b[1;32m   5244\u001b[0m \u001b[0;34m\u001b[0m\u001b[0m\n\u001b[0;32m-> 5245\u001b[0;31m         self._fit(X, y, cat_features, text_features, embedding_features, None, graph, sample_weight, None, None, None, None, baseline, use_best_model,\n\u001b[0m\u001b[1;32m   5246\u001b[0m                   \u001b[0meval_set\u001b[0m\u001b[0;34m,\u001b[0m \u001b[0mverbose\u001b[0m\u001b[0;34m,\u001b[0m \u001b[0mlogging_level\u001b[0m\u001b[0;34m,\u001b[0m \u001b[0mplot\u001b[0m\u001b[0;34m,\u001b[0m \u001b[0mplot_file\u001b[0m\u001b[0;34m,\u001b[0m \u001b[0mcolumn_description\u001b[0m\u001b[0;34m,\u001b[0m \u001b[0mverbose_eval\u001b[0m\u001b[0;34m,\u001b[0m \u001b[0mmetric_period\u001b[0m\u001b[0;34m,\u001b[0m\u001b[0;34m\u001b[0m\u001b[0;34m\u001b[0m\u001b[0m\n\u001b[1;32m   5247\u001b[0m                   silent, early_stopping_rounds, save_snapshot, snapshot_file, snapshot_interval, init_model, callbacks, log_cout, log_cerr)\n",
            "\u001b[0;32m/usr/local/lib/python3.11/dist-packages/catboost/core.py\u001b[0m in \u001b[0;36m_fit\u001b[0;34m(self, X, y, cat_features, text_features, embedding_features, pairs, graph, sample_weight, group_id, group_weight, subgroup_id, pairs_weight, baseline, use_best_model, eval_set, verbose, logging_level, plot, plot_file, column_description, verbose_eval, metric_period, silent, early_stopping_rounds, save_snapshot, snapshot_file, snapshot_interval, init_model, callbacks, log_cout, log_cerr)\u001b[0m\n\u001b[1;32m   2408\u001b[0m \u001b[0;34m\u001b[0m\u001b[0m\n\u001b[1;32m   2409\u001b[0m             \u001b[0;32mwith\u001b[0m \u001b[0mplot_wrapper\u001b[0m\u001b[0;34m(\u001b[0m\u001b[0mplot\u001b[0m\u001b[0;34m,\u001b[0m \u001b[0mplot_file\u001b[0m\u001b[0;34m,\u001b[0m \u001b[0;34m'Training plots'\u001b[0m\u001b[0;34m,\u001b[0m \u001b[0;34m[\u001b[0m\u001b[0m_get_train_dir\u001b[0m\u001b[0;34m(\u001b[0m\u001b[0mself\u001b[0m\u001b[0;34m.\u001b[0m\u001b[0mget_params\u001b[0m\u001b[0;34m(\u001b[0m\u001b[0;34m)\u001b[0m\u001b[0;34m)\u001b[0m\u001b[0;34m]\u001b[0m\u001b[0;34m)\u001b[0m\u001b[0;34m:\u001b[0m\u001b[0;34m\u001b[0m\u001b[0;34m\u001b[0m\u001b[0m\n\u001b[0;32m-> 2410\u001b[0;31m                 self._train(\n\u001b[0m\u001b[1;32m   2411\u001b[0m                     \u001b[0mtrain_pool\u001b[0m\u001b[0;34m,\u001b[0m\u001b[0;34m\u001b[0m\u001b[0;34m\u001b[0m\u001b[0m\n\u001b[1;32m   2412\u001b[0m                     \u001b[0mtrain_params\u001b[0m\u001b[0;34m[\u001b[0m\u001b[0;34m\"eval_sets\"\u001b[0m\u001b[0;34m]\u001b[0m\u001b[0;34m,\u001b[0m\u001b[0;34m\u001b[0m\u001b[0;34m\u001b[0m\u001b[0m\n",
            "\u001b[0;32m/usr/local/lib/python3.11/dist-packages/catboost/core.py\u001b[0m in \u001b[0;36m_train\u001b[0;34m(self, train_pool, test_pool, params, allow_clear_pool, init_model)\u001b[0m\n\u001b[1;32m   1788\u001b[0m \u001b[0;34m\u001b[0m\u001b[0m\n\u001b[1;32m   1789\u001b[0m     \u001b[0;32mdef\u001b[0m \u001b[0m_train\u001b[0m\u001b[0;34m(\u001b[0m\u001b[0mself\u001b[0m\u001b[0;34m,\u001b[0m \u001b[0mtrain_pool\u001b[0m\u001b[0;34m,\u001b[0m \u001b[0mtest_pool\u001b[0m\u001b[0;34m,\u001b[0m \u001b[0mparams\u001b[0m\u001b[0;34m,\u001b[0m \u001b[0mallow_clear_pool\u001b[0m\u001b[0;34m,\u001b[0m \u001b[0minit_model\u001b[0m\u001b[0;34m)\u001b[0m\u001b[0;34m:\u001b[0m\u001b[0;34m\u001b[0m\u001b[0;34m\u001b[0m\u001b[0m\n\u001b[0;32m-> 1790\u001b[0;31m         \u001b[0mself\u001b[0m\u001b[0;34m.\u001b[0m\u001b[0m_object\u001b[0m\u001b[0;34m.\u001b[0m\u001b[0m_train\u001b[0m\u001b[0;34m(\u001b[0m\u001b[0mtrain_pool\u001b[0m\u001b[0;34m,\u001b[0m \u001b[0mtest_pool\u001b[0m\u001b[0;34m,\u001b[0m \u001b[0mparams\u001b[0m\u001b[0;34m,\u001b[0m \u001b[0mallow_clear_pool\u001b[0m\u001b[0;34m,\u001b[0m \u001b[0minit_model\u001b[0m\u001b[0;34m.\u001b[0m\u001b[0m_object\u001b[0m \u001b[0;32mif\u001b[0m \u001b[0minit_model\u001b[0m \u001b[0;32melse\u001b[0m \u001b[0;32mNone\u001b[0m\u001b[0;34m)\u001b[0m\u001b[0;34m\u001b[0m\u001b[0;34m\u001b[0m\u001b[0m\n\u001b[0m\u001b[1;32m   1791\u001b[0m         \u001b[0mself\u001b[0m\u001b[0;34m.\u001b[0m\u001b[0m_set_trained_model_attributes\u001b[0m\u001b[0;34m(\u001b[0m\u001b[0;34m)\u001b[0m\u001b[0;34m\u001b[0m\u001b[0;34m\u001b[0m\u001b[0m\n\u001b[1;32m   1792\u001b[0m \u001b[0;34m\u001b[0m\u001b[0m\n",
            "\u001b[0;32m_catboost.pyx\u001b[0m in \u001b[0;36m_catboost._CatBoost._train\u001b[0;34m()\u001b[0m\n",
            "\u001b[0;32m_catboost.pyx\u001b[0m in \u001b[0;36m_catboost._CatBoost._train\u001b[0;34m()\u001b[0m\n",
            "\u001b[0;31mKeyboardInterrupt\u001b[0m: "
          ]
        }
      ],
      "source": [
        "# Эту секцию я использую чтобы проверить свои теории относительно зависимости определенных фич с победами, ну и посмотрю скор начальный\n",
        "skf = StratifiedKFold(n_splits=5, shuffle=True, random_state=69)\n",
        "oof_cat = np.zeros(len(X))\n",
        "\n",
        "for fold, (train_idx, valid_idx) in enumerate(skf.split(X, y)):\n",
        "    X_train, X_valid = X.iloc[train_idx], X.iloc[valid_idx]\n",
        "    y_train, y_valid = y.iloc[train_idx], y.iloc[valid_idx]\n",
        "\n",
        "    model = CatBoostClassifier(\n",
        "        early_stopping_rounds=100,\n",
        "        random_state=69,\n",
        "        verbose=0,\n",
        "        thread_count=4\n",
        "    )\n",
        "    model.fit(X_train, y_train, eval_set=(X_valid, y_valid))\n",
        "\n",
        "    y_pred = model.predict_proba(X_valid)[:, 1]\n",
        "\n",
        "    fold_roc_auc = roc_auc_score(y_valid, y_pred)\n",
        "    fold_acc = accuracy_score(y_valid, y_pred > 0.5)\n",
        "\n",
        "    oof_cat[valid_idx] = y_pred\n",
        "\n",
        "oof_roc_auc = roc_auc_score(y, oof_cat)\n",
        "oof_accuracy = accuracy_score(y, oof_cat > 0.5)\n",
        "print(f'\\nOverall CAT OOF ROC-AUC: {oof_roc_auc:.4f}, OOF Accuracy: {oof_accuracy:.4f}')\n",
        "\n",
        "\n",
        "feature_importance = model.get_feature_importance()\n",
        "feature_names = model.feature_names_\n",
        "\n",
        "\n",
        "\n",
        "importance_df = pd.DataFrame({\n",
        "    'Feature': feature_names,\n",
        "    'Importance': feature_importance\n",
        "}).sort_values('Importance', ascending=False)\n",
        "\n",
        "\n",
        "plt.figure(figsize=(10,6))\n",
        "plt.barh(importance_df['Feature'][:20],importance_df['Importance'][:20])\n",
        "plt.show()\n",
        "\n",
        "#в целом, исходя изнескольких графиков фич импортенса видно, что голда и смерти позиций появлятся достаточно часто, чаще чем участие в драках\n",
        "#или кили или ассисты.\n",
        "#на основнии этого будем фичеинженирить. Полагаю неплохо будет сначала завести по фиче для суммирвания всех статов на команду.\n"
      ]
    },
    {
      "cell_type": "markdown",
      "metadata": {
        "id": "tD7v2-5jlRSy"
      },
      "source": [
        "# Генерация фичей (5 баллов)\n",
        "\n",
        "Генерация фичей является одной из важнейших частей построения пайплайна машинного обучения. В данной части вам предлагается придумать и сгенерировать полезные фичи для модели. Важно: они должны повысить метрику. В качестве примера сгенерированы статистические фичи. Вы можете не использовать их, если не считаете их нужными."
      ]
    },
    {
      "cell_type": "code",
      "execution_count": null,
      "metadata": {
        "execution": {
          "iopub.execute_input": "2025-03-27T19:05:30.417329Z",
          "iopub.status.busy": "2025-03-27T19:05:30.416998Z",
          "iopub.status.idle": "2025-03-27T19:05:30.426418Z",
          "shell.execute_reply": "2025-03-27T19:05:30.425170Z",
          "shell.execute_reply.started": "2025-03-27T19:05:30.417301Z"
        },
        "trusted": true,
        "id": "pjyXcWsylRSy"
      },
      "outputs": [],
      "source": [
        "def fe(data):\n",
        "    eps = 1e-8\n",
        "    for c in [\n",
        "        'kills', 'deaths', 'assists', 'denies', 'gold', 'lh', 'xp',\n",
        "        'health', 'max_health', 'max_mana', 'level', 'x', 'y',\n",
        "        'stuns', 'creeps_stacked', 'camps_stacked', 'rune_pickups',\n",
        "        'firstblood_claimed', 'teamfight_participation', 'towers_killed',\n",
        "        'roshans_killed', 'obs_placed', 'sen_placed'\n",
        "    ]:\n",
        "\n",
        "        r_columns = [f'r{i}_{c}' for i in range(1, 6)]\n",
        "        d_columns = [f'd{i}_{c}' for i in range(1, 6)]\n",
        "\n",
        "        r_core_columns = [f'r{i}_{c}' for i in range(1,4)]\n",
        "        d_core_columns = [f'd{i}_{c}' for i in range(1,4)]\n",
        "\n",
        "        r_sup_columns = [f'r{i}_{c}' for i in range(4,6)]\n",
        "        d_sup_columns = [f'd{i}_{c}' for i in range(4,6)]\n",
        "\n",
        "\n",
        "\n",
        "\n",
        "        data['r_total_' + c] = data[r_columns].sum(1)\n",
        "        data['d_total_' + c] = data[d_columns].sum(1)\n",
        "        data['total_' + c + '_ratio'] = data['r_total_' + c] / (data['d_total_' + c] + eps)\n",
        "\n",
        "        data['r_std_' + c] = data[r_columns].std(1)\n",
        "        data['d_std_' + c] = data[d_columns].std(1)\n",
        "\n",
        "        data['r_median_' + c] = data[r_columns].median(1)\n",
        "        data['d_median_' + c] = data[d_columns].median(1)\n",
        "\n",
        "        data['r_min_' + c] = data[r_columns].min(1)\n",
        "        data['d_min_' + c] = data[d_columns].min(1)\n",
        "\n",
        "        data['r_max_' + c] = data[r_columns].max(1)\n",
        "        data['d_max_' + c] = data[d_columns].max(1)\n",
        "\n",
        "        data['r_minmax_diff_'+ c] = data['r_max_' + c] - data['r_min_' + c]\n",
        "        data['d_minmax_diff_'+ c] = data['d_max_' + c] - data['d_min_' + c]\n",
        "\n",
        "        data['r_minmax_ratio_'+ c] = data['r_max_' + c] / (data['r_min_' + c] + eps)\n",
        "        data['d_minmax_ratio_'+ c] = data['d_max_' + c] / (data['d_min_' + c] + eps)\n",
        "\n",
        "        #вообще похорошему общий импакт от коров хорошо вынести в отдельную фичу\n",
        "        data['r_core_avg_' + c] = data[r_core_columns].mean(1)\n",
        "        data['r_core_sum_' + c] = data[r_core_columns].sum(1)\n",
        "        data['d_core_avg_' + c] = data[d_core_columns].mean(1)\n",
        "        data['d_core_sum_' + c] = data[d_core_columns].sum(1)\n",
        "\n",
        "        # ну и от сапов тада почему нет лол\n",
        "        data['r_sup_avg_' + c] = data[r_sup_columns].mean(1)\n",
        "        data['r_sup_sum_' + c] = data[r_sup_columns].sum(1)\n",
        "        data['d_sup_avg_' + c] = data[d_sup_columns].mean(1)\n",
        "        data['d_sup_sum_' + c] = data[d_sup_columns].sum(1)\n",
        "\n",
        "\n",
        "        data['r_sup_vs_core_' + c] = data['r_core_avg_' + c] - data['r_sup_avg_' + c]\n",
        "        data['d_sup_vs_core_' + c] = data['d_core_avg_' + c] - data['d_sup_avg_' + c]\n",
        "\n",
        "\n",
        "        #бинарные фичи доминирования\n",
        "        data['r_dom_' + c] = (data['r_total_' + c] > data['d_total_' + c]).astype(int)\n",
        "        data['d_dom_' + c] = (data['r_total_' + c] < data['d_total_' + c]).astype(int)\n",
        "\n",
        "        data['r_core_dom_' + c] = (data['r_core_sum_' + c] > data['d_core_sum_' + c]).astype(int)\n",
        "        data['d_core_dom_' + c] = (data['r_core_sum_' + c] < data['d_core_sum_' + c]).astype(int)\n",
        "\n",
        "\n",
        "    for first in [\n",
        "        'kills', 'deaths', 'assists', 'denies', 'gold', 'lh', 'xp',\n",
        "        'health', 'max_health', 'max_mana', 'level', 'x', 'y',\n",
        "        'stuns', 'creeps_stacked', 'camps_stacked', 'rune_pickups',\n",
        "        'firstblood_claimed', 'teamfight_participation', 'towers_killed',\n",
        "        'roshans_killed', 'obs_placed', 'sen_placed'\n",
        "    ]:\n",
        "      r_columns_first = [f'r{i}_{first}' for i in range(1, 6)]\n",
        "      d_columns_first = [f'd{i}_{first}' for i in range(1, 6)]\n",
        "\n",
        "      r_core_columns_first = [f'r{i}_{first}' for i in range(1,4)]\n",
        "      d_core_columns_first = [f'd{i}_{first}' for i in range(1,4)]\n",
        "\n",
        "      r_sup_columns_first = [f'r{i}_{first}' for i in range(4,6)]\n",
        "      d_sup_columns_first = [f'd{i}_{first}' for i in range(4,6)]\n",
        "      for second in [\n",
        "        'kills', 'deaths', 'assists', 'denies', 'gold', 'lh', 'xp',\n",
        "        'health', 'max_health', 'max_mana', 'level', 'x', 'y',\n",
        "        'stuns', 'creeps_stacked', 'camps_stacked', 'rune_pickups',\n",
        "        'firstblood_claimed', 'teamfight_participation', 'towers_killed',\n",
        "        'roshans_killed', 'obs_placed', 'sen_placed'\n",
        "    ]:\n",
        "        r_columns_second = [f'r{i}_{second}' for i in range(1, 6)]\n",
        "        d_columns_second = [f'd{i}_{second}' for i in range(1, 6)]\n",
        "\n",
        "        r_core_columns_second = [f'r{i}_{second}' for i in range(1,4)]\n",
        "        d_core_columns_second = [f'd{i}_{second}' for i in range(1,4)]\n",
        "\n",
        "        r_sup_columns_second = [f'r{i}_{second}' for i in range(4,6)]\n",
        "        d_sup_columns_second = [f'd{i}_{second}' for i in range(4,6)]\n",
        "        if first!=second:\n",
        "          data['r_' + first+'_+_'+second] = data[r_columns_first].sum(1) + data[r_columns_second].sum(1)\n",
        "          data['r_' + first+'_-_'+second] = data[r_columns_first].sum(1) - data[r_columns_second].sum(1)\n",
        "          data['r_' + first+'_*_'+second] = data[r_columns_first].sum(1) * data[r_columns_second].sum(1)\n",
        "          data['r_' + first+'_/_'+second] = data[r_columns_first].sum(1) / (data[r_columns_second].sum(1) + eps)\n",
        "\n",
        "          data['d_' + first+'_+_'+second] = data[d_columns_first].sum(1) + data[d_columns_second].sum(1)\n",
        "          data['d_' + first+'_-_'+second] = data[d_columns_first].sum(1) - data[d_columns_second].sum(1)\n",
        "          data['d_' + first+'_*_'+second] = data[d_columns_first].sum(1) * data[d_columns_second].sum(1)\n",
        "          data['d_' + first+'_/_'+second] = data[d_columns_first].sum(1) / (data[d_columns_second].sum(1) + eps)\n",
        "\n",
        "          data['r_core_' + first+'_+_'+second] = data[r_core_columns_first].sum(1) + data[r_core_columns_second].sum(1)\n",
        "          data['r_core_' + first+'_-_'+second] = data[r_core_columns_first].sum(1) - data[r_core_columns_second].sum(1)\n",
        "          data['r_core_' + first+'_*_'+second] = data[r_core_columns_first].sum(1) * data[r_core_columns_second].sum(1)\n",
        "          data['r_core_' + first+'_/_'+second] = data[r_core_columns_first].sum(1) / (data[r_core_columns_second].sum(1) + eps)\n",
        "\n",
        "          data['d_core_' + first+'_+_'+second] = data[d_core_columns_first].sum(1) + data[d_core_columns_second].sum(1)\n",
        "          data['d_core_' + first+'_-_'+second] = data[d_core_columns_first].sum(1) - data[d_core_columns_second].sum(1)\n",
        "          data['d_core_' + first+'_*_'+second] = data[d_core_columns_first].sum(1) * data[d_core_columns_second].sum(1)\n",
        "          data['d_core_' + first+'_/_'+second] = data[d_core_columns_first].sum(1) / (data[d_core_columns_second].sum(1) + eps)\n",
        "\n",
        "          data['r_sup_' + first+'_+_'+second] = data[r_sup_columns_first].sum(1) + data[r_sup_columns_second].sum(1)\n",
        "          data['r_sup_' + first+'_-_'+second] = data[r_sup_columns_first].sum(1) - data[r_sup_columns_second].sum(1)\n",
        "          data['r_sup_' + first+'_*_'+second] = data[r_sup_columns_first].sum(1) * data[r_sup_columns_second].sum(1)\n",
        "          data['r_sup_' + first+'_/_'+second] = data[r_sup_columns_first].sum(1) / (data[r_sup_columns_second].sum(1) + eps)\n",
        "\n",
        "          data['d_sup_' + first+'_+_'+second] = data[d_sup_columns_first].sum(1) + data[d_sup_columns_second].sum(1)\n",
        "          data['d_sup_' + first+'_-_'+second] = data[d_sup_columns_first].sum(1) - data[d_sup_columns_second].sum(1)\n",
        "          data['d_sup_' + first+'_*_'+second] = data[d_sup_columns_first].sum(1) * data[d_sup_columns_second].sum(1)\n",
        "          data['d_sup_' + first+'_/_'+second] = data[d_sup_columns_first].sum(1) / (data[d_sup_columns_second].sum(1) + eps)\n",
        "\n",
        "\n",
        "    return data"
      ]
    },
    {
      "cell_type": "markdown",
      "metadata": {
        "id": "44o1eOPilRS0"
      },
      "source": [
        "# Теперь обучим CatBoost на данных с новыми фичами и посмотрим на метрики"
      ]
    },
    {
      "cell_type": "code",
      "execution_count": null,
      "metadata": {
        "execution": {
          "iopub.execute_input": "2025-03-27T19:05:30.428885Z",
          "iopub.status.busy": "2025-03-27T19:05:30.428477Z",
          "iopub.status.idle": "2025-03-27T19:07:35.323632Z",
          "shell.execute_reply": "2025-03-27T19:07:35.322437Z",
          "shell.execute_reply.started": "2025-03-27T19:05:30.428854Z"
        },
        "trusted": true,
        "id": "gAySPQZGlRS0",
        "outputId": "ddb9e826-b0f8-43a2-ec6e-6b90105cfdb2",
        "colab": {
          "base_uri": "https://localhost:8080/",
          "height": 391
        }
      },
      "outputs": [
        {
          "output_type": "error",
          "ename": "KeyboardInterrupt",
          "evalue": "",
          "traceback": [
            "\u001b[0;31m---------------------------------------------------------------------------\u001b[0m",
            "\u001b[0;31mKeyboardInterrupt\u001b[0m                         Traceback (most recent call last)",
            "\u001b[0;32m<ipython-input-22-75eee9d35e51>\u001b[0m in \u001b[0;36m<cell line: 0>\u001b[0;34m()\u001b[0m\n\u001b[1;32m      7\u001b[0m \u001b[0;34m\u001b[0m\u001b[0m\n\u001b[1;32m      8\u001b[0m     \u001b[0;31m# чтобы в тест не утекли глобальные статистики трейна, сначала сплитим, потом генерируем фичи\u001b[0m\u001b[0;34m\u001b[0m\u001b[0;34m\u001b[0m\u001b[0m\n\u001b[0;32m----> 9\u001b[0;31m     \u001b[0mX_train\u001b[0m \u001b[0;34m=\u001b[0m \u001b[0mfe\u001b[0m\u001b[0;34m(\u001b[0m\u001b[0mX_train\u001b[0m\u001b[0;34m)\u001b[0m\u001b[0;34m\u001b[0m\u001b[0;34m\u001b[0m\u001b[0m\n\u001b[0m\u001b[1;32m     10\u001b[0m     \u001b[0mX_valid\u001b[0m \u001b[0;34m=\u001b[0m \u001b[0mfe\u001b[0m\u001b[0;34m(\u001b[0m\u001b[0mX_valid\u001b[0m\u001b[0;34m)\u001b[0m\u001b[0;34m\u001b[0m\u001b[0;34m\u001b[0m\u001b[0m\n\u001b[1;32m     11\u001b[0m \u001b[0;34m\u001b[0m\u001b[0m\n",
            "\u001b[0;32m<ipython-input-20-d1f2c0f86be3>\u001b[0m in \u001b[0;36mfe\u001b[0;34m(data)\u001b[0m\n\u001b[1;32m     32\u001b[0m \u001b[0;34m\u001b[0m\u001b[0m\n\u001b[1;32m     33\u001b[0m         \u001b[0mdata\u001b[0m\u001b[0;34m[\u001b[0m\u001b[0;34m'r_min_'\u001b[0m \u001b[0;34m+\u001b[0m \u001b[0mc\u001b[0m\u001b[0;34m]\u001b[0m \u001b[0;34m=\u001b[0m \u001b[0mdata\u001b[0m\u001b[0;34m[\u001b[0m\u001b[0mr_columns\u001b[0m\u001b[0;34m]\u001b[0m\u001b[0;34m.\u001b[0m\u001b[0mmin\u001b[0m\u001b[0;34m(\u001b[0m\u001b[0;36m1\u001b[0m\u001b[0;34m)\u001b[0m\u001b[0;34m\u001b[0m\u001b[0;34m\u001b[0m\u001b[0m\n\u001b[0;32m---> 34\u001b[0;31m         \u001b[0mdata\u001b[0m\u001b[0;34m[\u001b[0m\u001b[0;34m'd_min_'\u001b[0m \u001b[0;34m+\u001b[0m \u001b[0mc\u001b[0m\u001b[0;34m]\u001b[0m \u001b[0;34m=\u001b[0m \u001b[0mdata\u001b[0m\u001b[0;34m[\u001b[0m\u001b[0md_columns\u001b[0m\u001b[0;34m]\u001b[0m\u001b[0;34m.\u001b[0m\u001b[0mmin\u001b[0m\u001b[0;34m(\u001b[0m\u001b[0;36m1\u001b[0m\u001b[0;34m)\u001b[0m\u001b[0;34m\u001b[0m\u001b[0;34m\u001b[0m\u001b[0m\n\u001b[0m\u001b[1;32m     35\u001b[0m \u001b[0;34m\u001b[0m\u001b[0m\n\u001b[1;32m     36\u001b[0m         \u001b[0mdata\u001b[0m\u001b[0;34m[\u001b[0m\u001b[0;34m'r_max_'\u001b[0m \u001b[0;34m+\u001b[0m \u001b[0mc\u001b[0m\u001b[0;34m]\u001b[0m \u001b[0;34m=\u001b[0m \u001b[0mdata\u001b[0m\u001b[0;34m[\u001b[0m\u001b[0mr_columns\u001b[0m\u001b[0;34m]\u001b[0m\u001b[0;34m.\u001b[0m\u001b[0mmax\u001b[0m\u001b[0;34m(\u001b[0m\u001b[0;36m1\u001b[0m\u001b[0;34m)\u001b[0m\u001b[0;34m\u001b[0m\u001b[0;34m\u001b[0m\u001b[0m\n",
            "\u001b[0;32m/usr/local/lib/python3.11/dist-packages/pandas/core/frame.py\u001b[0m in \u001b[0;36mmin\u001b[0;34m(self, axis, skipna, numeric_only, **kwargs)\u001b[0m\n\u001b[1;32m  11641\u001b[0m         \u001b[0;34m**\u001b[0m\u001b[0mkwargs\u001b[0m\u001b[0;34m,\u001b[0m\u001b[0;34m\u001b[0m\u001b[0;34m\u001b[0m\u001b[0m\n\u001b[1;32m  11642\u001b[0m     ):\n\u001b[0;32m> 11643\u001b[0;31m         \u001b[0mresult\u001b[0m \u001b[0;34m=\u001b[0m \u001b[0msuper\u001b[0m\u001b[0;34m(\u001b[0m\u001b[0;34m)\u001b[0m\u001b[0;34m.\u001b[0m\u001b[0mmin\u001b[0m\u001b[0;34m(\u001b[0m\u001b[0maxis\u001b[0m\u001b[0;34m,\u001b[0m \u001b[0mskipna\u001b[0m\u001b[0;34m,\u001b[0m \u001b[0mnumeric_only\u001b[0m\u001b[0;34m,\u001b[0m \u001b[0;34m**\u001b[0m\u001b[0mkwargs\u001b[0m\u001b[0;34m)\u001b[0m\u001b[0;34m\u001b[0m\u001b[0;34m\u001b[0m\u001b[0m\n\u001b[0m\u001b[1;32m  11644\u001b[0m         \u001b[0;32mif\u001b[0m \u001b[0misinstance\u001b[0m\u001b[0;34m(\u001b[0m\u001b[0mresult\u001b[0m\u001b[0;34m,\u001b[0m \u001b[0mSeries\u001b[0m\u001b[0;34m)\u001b[0m\u001b[0;34m:\u001b[0m\u001b[0;34m\u001b[0m\u001b[0;34m\u001b[0m\u001b[0m\n\u001b[1;32m  11645\u001b[0m             \u001b[0mresult\u001b[0m \u001b[0;34m=\u001b[0m \u001b[0mresult\u001b[0m\u001b[0;34m.\u001b[0m\u001b[0m__finalize__\u001b[0m\u001b[0;34m(\u001b[0m\u001b[0mself\u001b[0m\u001b[0;34m,\u001b[0m \u001b[0mmethod\u001b[0m\u001b[0;34m=\u001b[0m\u001b[0;34m\"min\"\u001b[0m\u001b[0;34m)\u001b[0m\u001b[0;34m\u001b[0m\u001b[0;34m\u001b[0m\u001b[0m\n",
            "\u001b[0;32m/usr/local/lib/python3.11/dist-packages/pandas/core/generic.py\u001b[0m in \u001b[0;36mmin\u001b[0;34m(self, axis, skipna, numeric_only, **kwargs)\u001b[0m\n\u001b[1;32m  12386\u001b[0m         \u001b[0;34m**\u001b[0m\u001b[0mkwargs\u001b[0m\u001b[0;34m,\u001b[0m\u001b[0;34m\u001b[0m\u001b[0;34m\u001b[0m\u001b[0m\n\u001b[1;32m  12387\u001b[0m     ):\n\u001b[0;32m> 12388\u001b[0;31m         return self._stat_function(\n\u001b[0m\u001b[1;32m  12389\u001b[0m             \u001b[0;34m\"min\"\u001b[0m\u001b[0;34m,\u001b[0m\u001b[0;34m\u001b[0m\u001b[0;34m\u001b[0m\u001b[0m\n\u001b[1;32m  12390\u001b[0m             \u001b[0mnanops\u001b[0m\u001b[0;34m.\u001b[0m\u001b[0mnanmin\u001b[0m\u001b[0;34m,\u001b[0m\u001b[0;34m\u001b[0m\u001b[0;34m\u001b[0m\u001b[0m\n",
            "\u001b[0;32m/usr/local/lib/python3.11/dist-packages/pandas/core/generic.py\u001b[0m in \u001b[0;36m_stat_function\u001b[0;34m(self, name, func, axis, skipna, numeric_only, **kwargs)\u001b[0m\n\u001b[1;32m  12375\u001b[0m         \u001b[0mvalidate_bool_kwarg\u001b[0m\u001b[0;34m(\u001b[0m\u001b[0mskipna\u001b[0m\u001b[0;34m,\u001b[0m \u001b[0;34m\"skipna\"\u001b[0m\u001b[0;34m,\u001b[0m \u001b[0mnone_allowed\u001b[0m\u001b[0;34m=\u001b[0m\u001b[0;32mFalse\u001b[0m\u001b[0;34m)\u001b[0m\u001b[0;34m\u001b[0m\u001b[0;34m\u001b[0m\u001b[0m\n\u001b[1;32m  12376\u001b[0m \u001b[0;34m\u001b[0m\u001b[0m\n\u001b[0;32m> 12377\u001b[0;31m         return self._reduce(\n\u001b[0m\u001b[1;32m  12378\u001b[0m             \u001b[0mfunc\u001b[0m\u001b[0;34m,\u001b[0m \u001b[0mname\u001b[0m\u001b[0;34m=\u001b[0m\u001b[0mname\u001b[0m\u001b[0;34m,\u001b[0m \u001b[0maxis\u001b[0m\u001b[0;34m=\u001b[0m\u001b[0maxis\u001b[0m\u001b[0;34m,\u001b[0m \u001b[0mskipna\u001b[0m\u001b[0;34m=\u001b[0m\u001b[0mskipna\u001b[0m\u001b[0;34m,\u001b[0m \u001b[0mnumeric_only\u001b[0m\u001b[0;34m=\u001b[0m\u001b[0mnumeric_only\u001b[0m\u001b[0;34m\u001b[0m\u001b[0;34m\u001b[0m\u001b[0m\n\u001b[1;32m  12379\u001b[0m         )\n",
            "\u001b[0;32m/usr/local/lib/python3.11/dist-packages/pandas/core/frame.py\u001b[0m in \u001b[0;36m_reduce\u001b[0;34m(self, op, name, axis, skipna, numeric_only, filter_type, **kwds)\u001b[0m\n\u001b[1;32m  11564\u001b[0m         \u001b[0;32mif\u001b[0m \u001b[0mout_dtype\u001b[0m \u001b[0;32mis\u001b[0m \u001b[0;32mnot\u001b[0m \u001b[0;32mNone\u001b[0m \u001b[0;32mand\u001b[0m \u001b[0mout\u001b[0m\u001b[0;34m.\u001b[0m\u001b[0mdtype\u001b[0m \u001b[0;34m!=\u001b[0m \u001b[0;34m\"boolean\"\u001b[0m\u001b[0;34m:\u001b[0m\u001b[0;34m\u001b[0m\u001b[0;34m\u001b[0m\u001b[0m\n\u001b[1;32m  11565\u001b[0m             \u001b[0mout\u001b[0m \u001b[0;34m=\u001b[0m \u001b[0mout\u001b[0m\u001b[0;34m.\u001b[0m\u001b[0mastype\u001b[0m\u001b[0;34m(\u001b[0m\u001b[0mout_dtype\u001b[0m\u001b[0;34m)\u001b[0m\u001b[0;34m\u001b[0m\u001b[0;34m\u001b[0m\u001b[0m\n\u001b[0;32m> 11566\u001b[0;31m         \u001b[0;32melif\u001b[0m \u001b[0;34m(\u001b[0m\u001b[0mdf\u001b[0m\u001b[0;34m.\u001b[0m\u001b[0m_mgr\u001b[0m\u001b[0;34m.\u001b[0m\u001b[0mget_dtypes\u001b[0m\u001b[0;34m(\u001b[0m\u001b[0;34m)\u001b[0m \u001b[0;34m==\u001b[0m \u001b[0mobject\u001b[0m\u001b[0;34m)\u001b[0m\u001b[0;34m.\u001b[0m\u001b[0many\u001b[0m\u001b[0;34m(\u001b[0m\u001b[0;34m)\u001b[0m \u001b[0;32mand\u001b[0m \u001b[0mname\u001b[0m \u001b[0;32mnot\u001b[0m \u001b[0;32min\u001b[0m \u001b[0;34m[\u001b[0m\u001b[0;34m\"any\"\u001b[0m\u001b[0;34m,\u001b[0m \u001b[0;34m\"all\"\u001b[0m\u001b[0;34m]\u001b[0m\u001b[0;34m:\u001b[0m\u001b[0;34m\u001b[0m\u001b[0;34m\u001b[0m\u001b[0m\n\u001b[0m\u001b[1;32m  11567\u001b[0m             \u001b[0mout\u001b[0m \u001b[0;34m=\u001b[0m \u001b[0mout\u001b[0m\u001b[0;34m.\u001b[0m\u001b[0mastype\u001b[0m\u001b[0;34m(\u001b[0m\u001b[0mobject\u001b[0m\u001b[0;34m)\u001b[0m\u001b[0;34m\u001b[0m\u001b[0;34m\u001b[0m\u001b[0m\n\u001b[1;32m  11568\u001b[0m         \u001b[0;32melif\u001b[0m \u001b[0mlen\u001b[0m\u001b[0;34m(\u001b[0m\u001b[0mself\u001b[0m\u001b[0;34m)\u001b[0m \u001b[0;34m==\u001b[0m \u001b[0;36m0\u001b[0m \u001b[0;32mand\u001b[0m \u001b[0mout\u001b[0m\u001b[0;34m.\u001b[0m\u001b[0mdtype\u001b[0m \u001b[0;34m==\u001b[0m \u001b[0mobject\u001b[0m \u001b[0;32mand\u001b[0m \u001b[0mname\u001b[0m \u001b[0;32min\u001b[0m \u001b[0;34m(\u001b[0m\u001b[0;34m\"sum\"\u001b[0m\u001b[0;34m,\u001b[0m \u001b[0;34m\"prod\"\u001b[0m\u001b[0;34m)\u001b[0m\u001b[0;34m:\u001b[0m\u001b[0;34m\u001b[0m\u001b[0;34m\u001b[0m\u001b[0m\n",
            "\u001b[0;32m/usr/local/lib/python3.11/dist-packages/pandas/core/internals/managers.py\u001b[0m in \u001b[0;36mget_dtypes\u001b[0;34m(self)\u001b[0m\n\u001b[1;32m    287\u001b[0m     \u001b[0;32mdef\u001b[0m \u001b[0mget_dtypes\u001b[0m\u001b[0;34m(\u001b[0m\u001b[0mself\u001b[0m\u001b[0;34m)\u001b[0m \u001b[0;34m->\u001b[0m \u001b[0mnpt\u001b[0m\u001b[0;34m.\u001b[0m\u001b[0mNDArray\u001b[0m\u001b[0;34m[\u001b[0m\u001b[0mnp\u001b[0m\u001b[0;34m.\u001b[0m\u001b[0mobject_\u001b[0m\u001b[0;34m]\u001b[0m\u001b[0;34m:\u001b[0m\u001b[0;34m\u001b[0m\u001b[0;34m\u001b[0m\u001b[0m\n\u001b[1;32m    288\u001b[0m         \u001b[0mdtypes\u001b[0m \u001b[0;34m=\u001b[0m \u001b[0mnp\u001b[0m\u001b[0;34m.\u001b[0m\u001b[0marray\u001b[0m\u001b[0;34m(\u001b[0m\u001b[0;34m[\u001b[0m\u001b[0mblk\u001b[0m\u001b[0;34m.\u001b[0m\u001b[0mdtype\u001b[0m \u001b[0;32mfor\u001b[0m \u001b[0mblk\u001b[0m \u001b[0;32min\u001b[0m \u001b[0mself\u001b[0m\u001b[0;34m.\u001b[0m\u001b[0mblocks\u001b[0m\u001b[0;34m]\u001b[0m\u001b[0;34m,\u001b[0m \u001b[0mdtype\u001b[0m\u001b[0;34m=\u001b[0m\u001b[0mobject\u001b[0m\u001b[0;34m)\u001b[0m\u001b[0;34m\u001b[0m\u001b[0;34m\u001b[0m\u001b[0m\n\u001b[0;32m--> 289\u001b[0;31m         \u001b[0;32mreturn\u001b[0m \u001b[0mdtypes\u001b[0m\u001b[0;34m.\u001b[0m\u001b[0mtake\u001b[0m\u001b[0;34m(\u001b[0m\u001b[0mself\u001b[0m\u001b[0;34m.\u001b[0m\u001b[0mblknos\u001b[0m\u001b[0;34m)\u001b[0m\u001b[0;34m\u001b[0m\u001b[0;34m\u001b[0m\u001b[0m\n\u001b[0m\u001b[1;32m    290\u001b[0m \u001b[0;34m\u001b[0m\u001b[0m\n\u001b[1;32m    291\u001b[0m     \u001b[0;34m@\u001b[0m\u001b[0mproperty\u001b[0m\u001b[0;34m\u001b[0m\u001b[0;34m\u001b[0m\u001b[0m\n",
            "\u001b[0;32m/usr/local/lib/python3.11/dist-packages/pandas/core/internals/managers.py\u001b[0m in \u001b[0;36mblknos\u001b[0;34m(self)\u001b[0m\n\u001b[1;32m    190\u001b[0m         \u001b[0;32mif\u001b[0m \u001b[0mself\u001b[0m\u001b[0;34m.\u001b[0m\u001b[0m_blknos\u001b[0m \u001b[0;32mis\u001b[0m \u001b[0;32mNone\u001b[0m\u001b[0;34m:\u001b[0m\u001b[0;34m\u001b[0m\u001b[0;34m\u001b[0m\u001b[0m\n\u001b[1;32m    191\u001b[0m             \u001b[0;31m# Note: these can be altered by other BlockManager methods.\u001b[0m\u001b[0;34m\u001b[0m\u001b[0;34m\u001b[0m\u001b[0m\n\u001b[0;32m--> 192\u001b[0;31m             \u001b[0mself\u001b[0m\u001b[0;34m.\u001b[0m\u001b[0m_rebuild_blknos_and_blklocs\u001b[0m\u001b[0;34m(\u001b[0m\u001b[0;34m)\u001b[0m\u001b[0;34m\u001b[0m\u001b[0;34m\u001b[0m\u001b[0m\n\u001b[0m\u001b[1;32m    193\u001b[0m \u001b[0;34m\u001b[0m\u001b[0m\n\u001b[1;32m    194\u001b[0m         \u001b[0;32mreturn\u001b[0m \u001b[0mself\u001b[0m\u001b[0;34m.\u001b[0m\u001b[0m_blknos\u001b[0m\u001b[0;34m\u001b[0m\u001b[0;34m\u001b[0m\u001b[0m\n",
            "\u001b[0;31mKeyboardInterrupt\u001b[0m: "
          ]
        }
      ],
      "source": [
        "skf = StratifiedKFold(n_splits=5, shuffle=True, random_state=69)\n",
        "oof_cat = np.zeros(len(X))\n",
        "\n",
        "for fold, (train_idx, valid_idx) in enumerate(skf.split(X, y)):\n",
        "    X_train, X_valid = X.iloc[train_idx], X.iloc[valid_idx]\n",
        "    y_train, y_valid = y.iloc[train_idx], y.iloc[valid_idx]\n",
        "\n",
        "    # чтобы в тест не утекли глобальные статистики трейна, сначала сплитим, потом генерируем фичи\n",
        "    X_train = fe(X_train)\n",
        "    X_valid = fe(X_valid)\n",
        "\n",
        "    model = CatBoostClassifier(\n",
        "        early_stopping_rounds=100,\n",
        "        random_state=69,\n",
        "        verbose=0,\n",
        "        thread_count=4\n",
        "    )\n",
        "    model.fit(X_train, y_train, eval_set=(X_valid, y_valid))\n",
        "\n",
        "    y_pred = model.predict_proba(X_valid)[:, 1]\n",
        "\n",
        "    fold_roc_auc = roc_auc_score(y_valid, y_pred)\n",
        "    fold_acc = accuracy_score(y_valid, y_pred > 0.5)\n",
        "    print(f'FOLD {fold}, Validation ROC-AUC score: {fold_roc_auc:.4f}, Accuracy score: {fold_acc:.4f}')\n",
        "\n",
        "    oof_cat[valid_idx] = y_pred\n",
        "\n",
        "oof_roc_auc = roc_auc_score(y, oof_cat)\n",
        "oof_accuracy = accuracy_score(y, oof_cat > 0.5)\n",
        "print(f'\\nOverall OOF ROC-AUC: {oof_roc_auc:.4f}, OOF Accuracy: {oof_accuracy:.4f}')\n",
        "\n",
        "\n",
        "feature_importance = model.get_feature_importance()\n",
        "feature_names = model.feature_names_\n",
        "\n",
        "\n",
        "\n",
        "importance_df = pd.DataFrame({\n",
        "    'Feature': feature_names,\n",
        "    'Importance': feature_importance\n",
        "}).sort_values('Importance', ascending=False)\n",
        "\n",
        "\n",
        "plt.figure(figsize=(10,6))\n",
        "plt.barh(importance_df['Feature'][:20],importance_df['Importance'][:20])\n",
        "plt.show()\n",
        "\n",
        "# ну из всех нагенеренных фичей куча мусорных, отберем"
      ]
    },
    {
      "cell_type": "markdown",
      "metadata": {
        "id": "eH2vWjWtlRS0"
      },
      "source": [
        "# Обработка категориальных фичей средствами CatBoost\n",
        "\n",
        "Попробуем подать категориальные фичи в модель через cat_features."
      ]
    },
    {
      "cell_type": "code",
      "execution_count": null,
      "metadata": {
        "execution": {
          "iopub.execute_input": "2025-03-27T19:07:35.325619Z",
          "iopub.status.busy": "2025-03-27T19:07:35.325334Z",
          "iopub.status.idle": "2025-03-27T19:07:35.330087Z",
          "shell.execute_reply": "2025-03-27T19:07:35.328802Z",
          "shell.execute_reply.started": "2025-03-27T19:07:35.325596Z"
        },
        "trusted": true,
        "id": "CuDTCHxtlRS1"
      },
      "outputs": [],
      "source": [
        "# выделим очевидные категориальные фичи - вы можете попробовать выделить больше / сгенерировать новые или же вовсе отказаться от этой идеи\n",
        "cats = ['game_mode', 'lobby_type']"
      ]
    },
    {
      "cell_type": "code",
      "execution_count": null,
      "metadata": {
        "execution": {
          "iopub.execute_input": "2025-03-27T19:07:35.331499Z",
          "iopub.status.busy": "2025-03-27T19:07:35.331151Z",
          "iopub.status.idle": "2025-03-27T19:10:11.334265Z",
          "shell.execute_reply": "2025-03-27T19:10:11.332596Z",
          "shell.execute_reply.started": "2025-03-27T19:07:35.331471Z"
        },
        "trusted": true,
        "id": "AAox0MlulRS1",
        "outputId": "24034732-4e6c-45d7-b1a8-d45e59084800",
        "colab": {
          "base_uri": "https://localhost:8080/",
          "height": 367
        }
      },
      "outputs": [
        {
          "output_type": "stream",
          "name": "stdout",
          "text": [
            "FOLD 0, Validation ROC-AUC score: 0.8361, Accuracy score: 0.7471\n",
            "FOLD 1, Validation ROC-AUC score: 0.8162, Accuracy score: 0.7260\n"
          ]
        },
        {
          "output_type": "error",
          "ename": "KeyboardInterrupt",
          "evalue": "",
          "traceback": [
            "\u001b[0;31m---------------------------------------------------------------------------\u001b[0m",
            "\u001b[0;31mKeyboardInterrupt\u001b[0m                         Traceback (most recent call last)",
            "\u001b[0;32m<ipython-input-172-17cb64631c03>\u001b[0m in \u001b[0;36m<cell line: 0>\u001b[0;34m()\u001b[0m\n\u001b[1;32m      7\u001b[0m \u001b[0;34m\u001b[0m\u001b[0m\n\u001b[1;32m      8\u001b[0m     \u001b[0;31m# чтобы в тест не утекли глобальные статистики трейна, сначала сплитим, потом генерируем фичи\u001b[0m\u001b[0;34m\u001b[0m\u001b[0;34m\u001b[0m\u001b[0m\n\u001b[0;32m----> 9\u001b[0;31m     \u001b[0mX_train\u001b[0m \u001b[0;34m=\u001b[0m \u001b[0mfe\u001b[0m\u001b[0;34m(\u001b[0m\u001b[0mX_train\u001b[0m\u001b[0;34m)\u001b[0m\u001b[0;34m\u001b[0m\u001b[0;34m\u001b[0m\u001b[0m\n\u001b[0m\u001b[1;32m     10\u001b[0m     \u001b[0mX_valid\u001b[0m \u001b[0;34m=\u001b[0m \u001b[0mfe\u001b[0m\u001b[0;34m(\u001b[0m\u001b[0mX_valid\u001b[0m\u001b[0;34m)\u001b[0m\u001b[0;34m\u001b[0m\u001b[0;34m\u001b[0m\u001b[0m\n\u001b[1;32m     11\u001b[0m \u001b[0;34m\u001b[0m\u001b[0m\n",
            "\u001b[0;32m<ipython-input-169-dde41ee12d38>\u001b[0m in \u001b[0;36mfe\u001b[0;34m(data)\u001b[0m\n\u001b[1;32m     14\u001b[0m         \u001b[0mdata\u001b[0m\u001b[0;34m[\u001b[0m\u001b[0;34m'r_total_'\u001b[0m \u001b[0;34m+\u001b[0m \u001b[0mc\u001b[0m\u001b[0;34m]\u001b[0m \u001b[0;34m=\u001b[0m \u001b[0mdata\u001b[0m\u001b[0;34m[\u001b[0m\u001b[0mr_columns\u001b[0m\u001b[0;34m]\u001b[0m\u001b[0;34m.\u001b[0m\u001b[0msum\u001b[0m\u001b[0;34m(\u001b[0m\u001b[0;36m1\u001b[0m\u001b[0;34m)\u001b[0m\u001b[0;34m\u001b[0m\u001b[0;34m\u001b[0m\u001b[0m\n\u001b[1;32m     15\u001b[0m         \u001b[0mdata\u001b[0m\u001b[0;34m[\u001b[0m\u001b[0;34m'd_total_'\u001b[0m \u001b[0;34m+\u001b[0m \u001b[0mc\u001b[0m\u001b[0;34m]\u001b[0m \u001b[0;34m=\u001b[0m \u001b[0mdata\u001b[0m\u001b[0;34m[\u001b[0m\u001b[0md_columns\u001b[0m\u001b[0;34m]\u001b[0m\u001b[0;34m.\u001b[0m\u001b[0msum\u001b[0m\u001b[0;34m(\u001b[0m\u001b[0;36m1\u001b[0m\u001b[0;34m)\u001b[0m\u001b[0;34m\u001b[0m\u001b[0;34m\u001b[0m\u001b[0m\n\u001b[0;32m---> 16\u001b[0;31m         \u001b[0mdata\u001b[0m\u001b[0;34m[\u001b[0m\u001b[0;34m'total_'\u001b[0m \u001b[0;34m+\u001b[0m \u001b[0mc\u001b[0m \u001b[0;34m+\u001b[0m \u001b[0;34m'_ratio'\u001b[0m\u001b[0;34m]\u001b[0m \u001b[0;34m=\u001b[0m \u001b[0mdata\u001b[0m\u001b[0;34m[\u001b[0m\u001b[0;34m'r_total_'\u001b[0m \u001b[0;34m+\u001b[0m \u001b[0mc\u001b[0m\u001b[0;34m]\u001b[0m \u001b[0;34m/\u001b[0m \u001b[0;34m(\u001b[0m\u001b[0mdata\u001b[0m\u001b[0;34m[\u001b[0m\u001b[0;34m'd_total_'\u001b[0m \u001b[0;34m+\u001b[0m \u001b[0mc\u001b[0m\u001b[0;34m]\u001b[0m \u001b[0;34m+\u001b[0m \u001b[0meps\u001b[0m\u001b[0;34m)\u001b[0m\u001b[0;34m\u001b[0m\u001b[0;34m\u001b[0m\u001b[0m\n\u001b[0m\u001b[1;32m     17\u001b[0m \u001b[0;34m\u001b[0m\u001b[0m\n\u001b[1;32m     18\u001b[0m \u001b[0;34m\u001b[0m\u001b[0m\n",
            "\u001b[0;31mKeyboardInterrupt\u001b[0m: "
          ]
        }
      ],
      "source": [
        "skf = StratifiedKFold(n_splits=5, shuffle=True, random_state=69)\n",
        "oof_cat = np.zeros(len(X))\n",
        "\n",
        "for fold, (train_idx, valid_idx) in enumerate(skf.split(X, y)):\n",
        "    X_train, X_valid = X.iloc[train_idx], X.iloc[valid_idx]\n",
        "    y_train, y_valid = y.iloc[train_idx], y.iloc[valid_idx]\n",
        "\n",
        "    # чтобы в тест не утекли глобальные статистики трейна, сначала сплитим, потом генерируем фичи\n",
        "    X_train = fe(X_train)\n",
        "    X_valid = fe(X_valid)\n",
        "\n",
        "    model = CatBoostClassifier(\n",
        "        cat_features=cats,\n",
        "        early_stopping_rounds=100,\n",
        "        random_state=69,\n",
        "        verbose=0,\n",
        "        thread_count=4\n",
        "    )\n",
        "    model.fit(X_train, y_train, eval_set=(X_valid, y_valid))\n",
        "\n",
        "    y_pred = model.predict_proba(X_valid)[:, 1]\n",
        "\n",
        "    fold_roc_auc = roc_auc_score(y_valid, y_pred)\n",
        "    fold_acc = accuracy_score(y_valid, y_pred > 0.5)\n",
        "    print(f'FOLD {fold}, Validation ROC-AUC score: {fold_roc_auc:.4f}, Accuracy score: {fold_acc:.4f}')\n",
        "\n",
        "    oof_cat[valid_idx] = y_pred\n",
        "\n",
        "oof_roc_auc = roc_auc_score(y, oof_cat)\n",
        "oof_accuracy = accuracy_score(y, oof_cat > 0.5)\n",
        "print(f'\\nOverall CAT w/ FE OOF ROC-AUC: {oof_roc_auc:.4f}, OOF Accuracy: {oof_accuracy:.4f}')"
      ]
    },
    {
      "cell_type": "markdown",
      "metadata": {
        "id": "SpVfcYf_lRS1"
      },
      "source": [
        "# Отбор фичей (5 баллов)\n",
        "\n",
        "Возможно, на этапе генерации фичей вы решили прибегнуть к автоматической генерации (если нет, то советую обратить внимание на библиотеку OpenFE), или же просто генерировали все подряд. Также, возможно, исходные данные содержали бесполезные и шумные фичи.\n",
        "\n",
        "Вам предлагается исследовать это и оставить только те фичи, которые вы считаете важными.\n",
        "\n",
        "Идеи для отбора фичей:\n",
        "- по feature importance\n",
        "- по permutation importance\n",
        "- по shap values\n",
        "- recursive feature elimination\n",
        "- sequential feature selection\n",
        "\n",
        "Также обратите внимание на гайд от catboost: https://github.com/catboost/catboost/blob/master/catboost/tutorials/feature_selection/select_features_tutorial.ipynb"
      ]
    },
    {
      "cell_type": "code",
      "source": [
        "CatBoostClassifier.select_features??"
      ],
      "metadata": {
        "id": "gPn9cp5PXqaM"
      },
      "execution_count": null,
      "outputs": []
    },
    {
      "cell_type": "code",
      "execution_count": null,
      "metadata": {
        "execution": {
          "iopub.execute_input": "2025-03-27T19:10:11.335892Z",
          "iopub.status.busy": "2025-03-27T19:10:11.335571Z",
          "iopub.status.idle": "2025-03-27T19:12:40.844486Z",
          "shell.execute_reply": "2025-03-27T19:12:40.843335Z",
          "shell.execute_reply.started": "2025-03-27T19:10:11.335864Z"
        },
        "scrolled": true,
        "trusted": true,
        "id": "z0lrjVWllRS1",
        "outputId": "e9546f7d-160b-4212-c65e-efd22db8421e",
        "colab": {
          "base_uri": "https://localhost:8080/",
          "height": 523
        }
      },
      "outputs": [
        {
          "output_type": "stream",
          "name": "stdout",
          "text": [
            "Learning rate set to 0.073263\n",
            "Step #1 out of 1\n"
          ]
        },
        {
          "output_type": "error",
          "ename": "KeyboardInterrupt",
          "evalue": "",
          "traceback": [
            "\u001b[0;31m---------------------------------------------------------------------------\u001b[0m",
            "\u001b[0;31mKeyboardInterrupt\u001b[0m                         Traceback (most recent call last)",
            "\u001b[0;32m<ipython-input-26-9ca35f54eca7>\u001b[0m in \u001b[0;36m<cell line: 0>\u001b[0;34m()\u001b[0m\n\u001b[1;32m     18\u001b[0m \u001b[0mtest_pool\u001b[0m \u001b[0;34m=\u001b[0m \u001b[0mPool\u001b[0m\u001b[0;34m(\u001b[0m\u001b[0mX_test\u001b[0m\u001b[0;34m,\u001b[0m \u001b[0my_test\u001b[0m\u001b[0;34m,\u001b[0m \u001b[0mcat_features\u001b[0m\u001b[0;34m=\u001b[0m\u001b[0mcats\u001b[0m\u001b[0;34m)\u001b[0m\u001b[0;34m\u001b[0m\u001b[0;34m\u001b[0m\u001b[0m\n\u001b[1;32m     19\u001b[0m \u001b[0;34m\u001b[0m\u001b[0m\n\u001b[0;32m---> 20\u001b[0;31m summary = model.select_features(\n\u001b[0m\u001b[1;32m     21\u001b[0m     \u001b[0mtrain_pool\u001b[0m\u001b[0;34m,\u001b[0m\u001b[0;34m\u001b[0m\u001b[0;34m\u001b[0m\u001b[0m\n\u001b[1;32m     22\u001b[0m     \u001b[0meval_set\u001b[0m\u001b[0;34m=\u001b[0m\u001b[0mtest_pool\u001b[0m\u001b[0;34m,\u001b[0m\u001b[0;34m\u001b[0m\u001b[0;34m\u001b[0m\u001b[0m\n",
            "\u001b[0;32m/usr/local/lib/python3.11/dist-packages/catboost/core.py\u001b[0m in \u001b[0;36mselect_features\u001b[0;34m(self, X, y, eval_set, features_for_select, num_features_to_select, algorithm, steps, shap_calc_type, train_final_model, verbose, logging_level, plot, plot_file, log_cout, log_cerr, grouping, features_tags_for_select, num_features_tags_to_select)\u001b[0m\n\u001b[1;32m   4517\u001b[0m \u001b[0;34m\u001b[0m\u001b[0m\n\u001b[1;32m   4518\u001b[0m             \u001b[0;32mwith\u001b[0m \u001b[0mplot_wrapper\u001b[0m\u001b[0;34m(\u001b[0m\u001b[0mplot\u001b[0m\u001b[0;34m,\u001b[0m \u001b[0mplot_file\u001b[0m\u001b[0;34m=\u001b[0m\u001b[0mplot_file\u001b[0m\u001b[0;34m,\u001b[0m \u001b[0mplot_title\u001b[0m\u001b[0;34m=\u001b[0m\u001b[0;34m'Select features plot'\u001b[0m\u001b[0;34m,\u001b[0m \u001b[0mtrain_dirs\u001b[0m\u001b[0;34m=\u001b[0m\u001b[0mplot_dirs\u001b[0m\u001b[0;34m)\u001b[0m\u001b[0;34m:\u001b[0m\u001b[0;34m\u001b[0m\u001b[0;34m\u001b[0m\u001b[0m\n\u001b[0;32m-> 4519\u001b[0;31m                 \u001b[0msummary\u001b[0m \u001b[0;34m=\u001b[0m \u001b[0mself\u001b[0m\u001b[0;34m.\u001b[0m\u001b[0m_object\u001b[0m\u001b[0;34m.\u001b[0m\u001b[0m_select_features\u001b[0m\u001b[0;34m(\u001b[0m\u001b[0mtrain_pool\u001b[0m\u001b[0;34m,\u001b[0m \u001b[0mtest_pool\u001b[0m\u001b[0;34m,\u001b[0m \u001b[0mparams\u001b[0m\u001b[0;34m)\u001b[0m\u001b[0;34m\u001b[0m\u001b[0;34m\u001b[0m\u001b[0m\n\u001b[0m\u001b[1;32m   4520\u001b[0m \u001b[0;34m\u001b[0m\u001b[0m\n\u001b[1;32m   4521\u001b[0m             \u001b[0;32mif\u001b[0m \u001b[0mtrain_final_model\u001b[0m\u001b[0;34m:\u001b[0m\u001b[0;34m\u001b[0m\u001b[0;34m\u001b[0m\u001b[0m\n",
            "\u001b[0;32m_catboost.pyx\u001b[0m in \u001b[0;36m_catboost._CatBoost._select_features\u001b[0;34m()\u001b[0m\n",
            "\u001b[0;32m_catboost.pyx\u001b[0m in \u001b[0;36m_catboost._CatBoost._select_features\u001b[0;34m()\u001b[0m\n",
            "\u001b[0;31mKeyboardInterrupt\u001b[0m: "
          ]
        }
      ],
      "source": [
        "# бейзлайн: используем встроенные инструменты catboost - вы можете работать с ним или обратиться к другим инструментам\n",
        "# здесь нужно быть аккуратным, ведь удаление фичей всегда может привести к падению скора\n",
        "# необходимо подобрать грамотный подход, а это можно сделать только путем экспериментов\n",
        "\n",
        "model = CatBoostClassifier(\n",
        "    cat_features=cats,\n",
        "    random_state=69,\n",
        "    verbose=0,\n",
        "    thread_count=4\n",
        ")\n",
        "\n",
        "X_train, X_test, y_train, y_test = train_test_split(X, y, test_size=0.25, random_state=69)\n",
        "\n",
        "X_train = fe(X_train)\n",
        "X_test = fe(X_test)\n",
        "\n",
        "train_pool = Pool(X_train, y_train, cat_features=cats)\n",
        "test_pool = Pool(X_test, y_test, cat_features=cats)\n",
        "\n",
        "summary = model.select_features(\n",
        "    train_pool,\n",
        "    eval_set=test_pool,\n",
        "    features_for_select=list(range(X_train.shape[1])),\n",
        "    num_features_to_select=200, #200 показывает оптимальный скор\n",
        "    algorithm='Sequential',# я выбираю последовтельное потому что у меня и так модель час обучается господи\n",
        "    steps=10, # количество шагов я выбрал 10 тоже для ускорения\n",
        "    shap_calc_type='Approximate', # я понимаю, что могу потерять точность, но ждать сутки я не намерен\n",
        "    train_final_model=False,\n",
        "    verbose=None,\n",
        "    logging_level=None,\n",
        "    plot=False\n",
        ")\n",
        "\n",
        "selected_features = summary['selected_features'] # отобранные фичи"
      ]
    },
    {
      "cell_type": "markdown",
      "metadata": {
        "id": "QfSy6YR1lRS2"
      },
      "source": [
        "# Обучим модель на отобранных и фичах и посмотрим на метрики"
      ]
    },
    {
      "cell_type": "code",
      "execution_count": null,
      "metadata": {
        "execution": {
          "iopub.execute_input": "2025-03-27T19:12:40.845824Z",
          "iopub.status.busy": "2025-03-27T19:12:40.845519Z",
          "iopub.status.idle": "2025-03-27T19:14:42.957253Z",
          "shell.execute_reply": "2025-03-27T19:14:42.956224Z",
          "shell.execute_reply.started": "2025-03-27T19:12:40.845796Z"
        },
        "trusted": true,
        "id": "U8mAICzolRS2",
        "outputId": "bd77abed-3d23-48d8-c14e-1ca154752f8d"
      },
      "outputs": [
        {
          "name": "stdout",
          "output_type": "stream",
          "text": [
            "FOLD 0, Validation ROC-AUC score: 0.8395, Accuracy score: 0.7480\n",
            "FOLD 1, Validation ROC-AUC score: 0.8198, Accuracy score: 0.7312\n",
            "FOLD 2, Validation ROC-AUC score: 0.8239, Accuracy score: 0.7347\n",
            "FOLD 3, Validation ROC-AUC score: 0.8230, Accuracy score: 0.7360\n",
            "FOLD 4, Validation ROC-AUC score: 0.8263, Accuracy score: 0.7372\n",
            "\n",
            "Overall CAT w/ FE&FS OOF ROC-AUC: 0.8264, OOF Accuracy: 0.7374\n"
          ]
        }
      ],
      "source": [
        "skf = StratifiedKFold(n_splits=5, shuffle=True, random_state=69)\n",
        "oof_cat = np.zeros(len(X))\n",
        "\n",
        "for fold, (train_idx, valid_idx) in enumerate(skf.split(X, y)):\n",
        "    X_train, X_valid = X.iloc[train_idx], X.iloc[valid_idx]\n",
        "    y_train, y_valid = y.iloc[train_idx], y.iloc[valid_idx]\n",
        "\n",
        "    # чтобы в тест не утекли глобальные статистики трейна, сначала сплитим, потом генерируем фичи\n",
        "    X_train = fe(X_train).iloc[:, selected_features]\n",
        "    X_valid = fe(X_valid).iloc[:, selected_features]\n",
        "\n",
        "    model = CatBoostClassifier(\n",
        "        cat_features=cats,\n",
        "        early_stopping_rounds=100,\n",
        "        random_state=69,\n",
        "        verbose=0,\n",
        "        thread_count=4\n",
        "    )\n",
        "    model.fit(X_train, y_train, eval_set=(X_valid, y_valid))\n",
        "\n",
        "    y_pred = model.predict_proba(X_valid)[:, 1]\n",
        "\n",
        "    fold_roc_auc = roc_auc_score(y_valid, y_pred)\n",
        "    fold_acc = accuracy_score(y_valid, y_pred > 0.5)\n",
        "    print(f'FOLD {fold}, Validation ROC-AUC score: {fold_roc_auc:.4f}, Accuracy score: {fold_acc:.4f}')\n",
        "\n",
        "    oof_cat[valid_idx] = y_pred\n",
        "\n",
        "oof_roc_auc = roc_auc_score(y, oof_cat)\n",
        "oof_accuracy = accuracy_score(y, oof_cat > 0.5)\n",
        "print(f'\\nOverall CAT w/ FE&FS OOF ROC-AUC: {oof_roc_auc:.4f}, OOF Accuracy: {oof_accuracy:.4f}')"
      ]
    },
    {
      "cell_type": "code",
      "source": [
        "from sklearn.inspection import permutation_importance\n",
        "import shap\n",
        "from collections import Counter\n",
        "#тут попробую свой отбор написать и сравнить с бейзлайном ^\n",
        "#сделаю голосование\n",
        "\n",
        "\n",
        "model = CatBoostClassifier(\n",
        "    cat_features=cats,\n",
        "    random_state=69,\n",
        "    verbose=0,\n",
        "    thread_count=4,\n",
        "    iterations=500\n",
        ")\n",
        "model.fit(X_train,y_train)\n",
        "\n",
        "#feature importance\n",
        "\n",
        "imp = model.get_feature_importance()\n",
        "top_200_fi = X_train.colums[imp.agrsort()[-200:][::-1]]\n",
        "\n",
        "#permutation importance\n",
        "permutation_importance(model,X_train,y_train,n_repeats = 5,random_state = 69)\n",
        "top_200_pi = X_train.colums[permutation_importance.agrsort()[-200:][::-1]]\n",
        "\n",
        "#shap\n",
        "shaps = shap.TreeExplainer(model)\n",
        "shap_v = shaps.shap_values(X_train)\n",
        "shap_imp = np.abs(shap_v).mean(axis=0)\n",
        "top_200_s = X_train.colums[shap_imp.agrsort()[-200:][::-1]]\n",
        "\n",
        "\n",
        "#голосование КАСТ ЕР ВОЙТ НИГГА\n",
        "all_feats = list(top_200_fi) + list(top_200_pi) + list(top_200_s) + list(selected_features)\n",
        "GOLOSOVANIE = Counter(all_feats)\n",
        "GOLOSOVANIE_final = [feat for feat,count in GOLOSOVANIE.items() if count >= 2]\n",
        "\n",
        "\n"
      ],
      "metadata": {
        "id": "GFLdrnfYSt5A"
      },
      "execution_count": null,
      "outputs": []
    },
    {
      "cell_type": "code",
      "source": [
        "#ну теперь посмотрим что получилось\n",
        "\n",
        "skf = StratifiedKFold(n_splits=5, shuffle=True, random_state=69)\n",
        "oof_cat = np.zeros(len(X))\n",
        "\n",
        "for fold, (train_idx, valid_idx) in enumerate(skf.split(X, y)):\n",
        "    X_train, X_valid = X.iloc[train_idx], X.iloc[valid_idx]\n",
        "    y_train, y_valid = y.iloc[train_idx], y.iloc[valid_idx]\n",
        "\n",
        "    X_train = fe(X_train).iloc[:, GOLOSOVANIE_final]\n",
        "    X_valid = fe(X_valid).iloc[:, GOLOSOVANIE_final]\n",
        "\n",
        "    model = CatBoostClassifier(\n",
        "        cat_features=cats,\n",
        "        early_stopping_rounds=100,\n",
        "        random_state=69,\n",
        "        verbose=0,\n",
        "        thread_count=4\n",
        "    )\n",
        "    model.fit(X_train, y_train, eval_set=(X_valid, y_valid))\n",
        "\n",
        "    y_pred = model.predict_proba(X_valid)[:, 1]\n",
        "\n",
        "    fold_roc_auc = roc_auc_score(y_valid, y_pred)\n",
        "    fold_acc = accuracy_score(y_valid, y_pred > 0.5)\n",
        "    print(f'FOLD {fold}, Validation ROC-AUC score: {fold_roc_auc:.4f}, Accuracy score: {fold_acc:.4f}')\n",
        "\n",
        "    oof_cat[valid_idx] = y_pred\n",
        "\n",
        "oof_roc_auc = roc_auc_score(y, oof_cat)\n",
        "oof_accuracy = accuracy_score(y, oof_cat > 0.5)\n",
        "print(f'\\nOverall CAT w/ FE&FS OOF ROC-AUC: {oof_roc_auc:.4f}, OOF Accuracy: {oof_accuracy:.4f}')"
      ],
      "metadata": {
        "id": "ChmPxr07h1ij"
      },
      "execution_count": null,
      "outputs": []
    },
    {
      "cell_type": "markdown",
      "metadata": {
        "id": "kU3yShYylRS2"
      },
      "source": [
        "# Блендинг: добавим XGBoost и LightGBM"
      ]
    },
    {
      "cell_type": "code",
      "execution_count": null,
      "metadata": {
        "execution": {
          "iopub.execute_input": "2025-03-27T19:14:42.960080Z",
          "iopub.status.busy": "2025-03-27T19:14:42.959766Z",
          "iopub.status.idle": "2025-03-27T19:15:26.885055Z",
          "shell.execute_reply": "2025-03-27T19:15:26.883879Z",
          "shell.execute_reply.started": "2025-03-27T19:14:42.960051Z"
        },
        "trusted": true,
        "id": "e8cWKDPhlRS2",
        "outputId": "a150faa7-e1a1-416a-b996-8e379798e2f9"
      },
      "outputs": [
        {
          "name": "stdout",
          "output_type": "stream",
          "text": [
            "FOLD 0, Validation ROC-AUC score: 0.8397, Accuracy score: 0.7472\n",
            "FOLD 1, Validation ROC-AUC score: 0.8204, Accuracy score: 0.7332\n",
            "FOLD 2, Validation ROC-AUC score: 0.8215, Accuracy score: 0.7302\n",
            "FOLD 3, Validation ROC-AUC score: 0.8216, Accuracy score: 0.7330\n",
            "FOLD 4, Validation ROC-AUC score: 0.8263, Accuracy score: 0.7384\n",
            "\n",
            "Overall LGB w/ FE&FS OOF ROC-AUC: 0.8258, OOF Accuracy: 0.7364\n"
          ]
        }
      ],
      "source": [
        "skf = StratifiedKFold(n_splits=5, shuffle=True, random_state=69)\n",
        "oof_lgb = np.zeros(len(X))\n",
        "\n",
        "for fold, (train_idx, valid_idx) in enumerate(skf.split(X, y)):\n",
        "    X_train, X_valid = X.iloc[train_idx], X.iloc[valid_idx]\n",
        "    y_train, y_valid = y.iloc[train_idx], y.iloc[valid_idx]\n",
        "\n",
        "    # чтобы в тест не утекли глобальные статистики трейна, сначала сплитим, потом генерируем фичи\n",
        "    X_train = fe(X_train).iloc[:, selected_features]\n",
        "    X_valid = fe(X_valid).iloc[:, selected_features]\n",
        "\n",
        "    # lgbm требует указания категориальных фичей как 'category'\n",
        "    for col in cats:\n",
        "        X_train[col] = X_train[col].astype('category')\n",
        "        X_valid[col] = X_valid[col].astype('category')\n",
        "\n",
        "    model = lgb.LGBMClassifier(\n",
        "        n_estimators=1000,\n",
        "        learning_rate=0.05,\n",
        "        max_depth=6,\n",
        "        subsample=0.8,\n",
        "        colsample_bytree=0.8,\n",
        "        random_state=69,\n",
        "        n_jobs=4,\n",
        "        metric='auc',\n",
        "        early_stopping_round=100,\n",
        "        verbosity=-1\n",
        "    )\n",
        "    model.fit(\n",
        "        X_train, y_train,\n",
        "        eval_set=[(X_valid, y_valid)],\n",
        "        categorical_feature=cats\n",
        "    )\n",
        "\n",
        "    y_pred = model.predict_proba(X_valid)[:, 1]\n",
        "\n",
        "    fold_roc_auc = roc_auc_score(y_valid, y_pred)\n",
        "    fold_acc = accuracy_score(y_valid, y_pred > 0.5)\n",
        "    print(f'FOLD {fold}, Validation ROC-AUC score: {fold_roc_auc:.4f}, Accuracy score: {fold_acc:.4f}')\n",
        "\n",
        "    oof_lgb[valid_idx] = y_pred\n",
        "\n",
        "oof_roc_auc = roc_auc_score(y, oof_lgb)\n",
        "oof_accuracy = accuracy_score(y, oof_lgb > 0.5)\n",
        "print(f'\\nOverall LGB w/ FE&FS OOF ROC-AUC: {oof_roc_auc:.4f}, OOF Accuracy: {oof_accuracy:.4f}')"
      ]
    },
    {
      "cell_type": "code",
      "execution_count": null,
      "metadata": {
        "execution": {
          "iopub.execute_input": "2025-03-27T19:15:26.886717Z",
          "iopub.status.busy": "2025-03-27T19:15:26.886394Z",
          "iopub.status.idle": "2025-03-27T19:17:08.615272Z",
          "shell.execute_reply": "2025-03-27T19:17:08.614041Z",
          "shell.execute_reply.started": "2025-03-27T19:15:26.886687Z"
        },
        "trusted": true,
        "id": "cvSTnjtSlRS3",
        "outputId": "27f4b565-4d87-4ce4-e861-bae0ff688167"
      },
      "outputs": [
        {
          "name": "stdout",
          "output_type": "stream",
          "text": [
            "FOLD 0, Validation ROC-AUC score: 0.8373, Accuracy score: 0.7481\n",
            "FOLD 1, Validation ROC-AUC score: 0.8197, Accuracy score: 0.7312\n",
            "FOLD 2, Validation ROC-AUC score: 0.8220, Accuracy score: 0.7313\n",
            "FOLD 3, Validation ROC-AUC score: 0.8215, Accuracy score: 0.7308\n",
            "FOLD 4, Validation ROC-AUC score: 0.8264, Accuracy score: 0.7391\n",
            "\n",
            "Overall XGB w/ FE&FS OOF ROC-AUC: 0.8252, OOF Accuracy: 0.7361\n"
          ]
        }
      ],
      "source": [
        "skf = StratifiedKFold(n_splits=5, shuffle=True, random_state=69)\n",
        "oof_xgb = np.zeros(len(X))\n",
        "\n",
        "for fold, (train_idx, valid_idx) in enumerate(skf.split(X, y)):\n",
        "    X_train, X_valid = X.iloc[train_idx], X.iloc[valid_idx]\n",
        "    y_train, y_valid = y.iloc[train_idx], y.iloc[valid_idx]\n",
        "\n",
        "    # чтобы в тест не утекли глобальные статистики трейна, сначала сплитим, потом генерируем фичи\n",
        "    X_train = fe(X_train).iloc[:, selected_features]\n",
        "    X_valid = fe(X_valid).iloc[:, selected_features]\n",
        "\n",
        "    # xgb требует указания категориальных фичей как 'category'\n",
        "    for col in cats:\n",
        "        X_train[col] = X_train[col].astype('category')\n",
        "        X_valid[col] = X_valid[col].astype('category')\n",
        "\n",
        "    cat_columns = [X_train.columns.get_loc(col) for col in cats]\n",
        "\n",
        "    model = XGBClassifier(\n",
        "        n_estimators=1000,\n",
        "        learning_rate=0.05,\n",
        "        max_depth=6,\n",
        "        subsample=0.8,\n",
        "        colsample_bytree=0.8,\n",
        "        random_state=69,\n",
        "        n_jobs=4,\n",
        "        eval_metric='auc',\n",
        "        early_stopping_rounds=100,\n",
        "        use_label_encoder=False,\n",
        "        enable_categorical=True,\n",
        "        tree_method='hist'\n",
        "    )\n",
        "\n",
        "    model.fit(\n",
        "        X_train, y_train,\n",
        "        eval_set=[(X_valid, y_valid)],\n",
        "        verbose=False\n",
        "    )\n",
        "\n",
        "    y_pred = model.predict_proba(X_valid)[:, 1]\n",
        "\n",
        "    fold_roc_auc = roc_auc_score(y_valid, y_pred)\n",
        "    fold_acc = accuracy_score(y_valid, y_pred > 0.5)\n",
        "    print(f'FOLD {fold}, Validation ROC-AUC score: {fold_roc_auc:.4f}, Accuracy score: {fold_acc:.4f}')\n",
        "\n",
        "    oof_xgb[valid_idx] = y_pred\n",
        "\n",
        "oof_roc_auc = roc_auc_score(y, oof_xgb)\n",
        "oof_accuracy = accuracy_score(y, oof_xgb > 0.5)\n",
        "print(f'\\nOverall XGB w/ FE&FS OOF ROC-AUC: {oof_roc_auc:.4f}, OOF Accuracy: {oof_accuracy:.4f}')"
      ]
    },
    {
      "cell_type": "code",
      "execution_count": null,
      "metadata": {
        "execution": {
          "iopub.execute_input": "2025-03-27T19:17:08.616831Z",
          "iopub.status.busy": "2025-03-27T19:17:08.616450Z",
          "iopub.status.idle": "2025-03-27T19:17:08.646854Z",
          "shell.execute_reply": "2025-03-27T19:17:08.645670Z",
          "shell.execute_reply.started": "2025-03-27T19:17:08.616800Z"
        },
        "trusted": true,
        "id": "PhYlUpIKlRS3",
        "outputId": "784dd609-36f6-43f8-8b26-69fb3c0c21ab"
      },
      "outputs": [
        {
          "name": "stdout",
          "output_type": "stream",
          "text": [
            "\n",
            "Overall BLEND w/ FE&FS OOF ROC-AUC: 0.8274, OOF Accuracy: 0.7378\n"
          ]
        }
      ],
      "source": [
        "# сблендим предсказания и посмотрим на метрики\n",
        "\n",
        "oof_blend = (oof_cat + oof_lgb + oof_xgb) / 3\n",
        "\n",
        "oof_roc_auc = roc_auc_score(y, oof_blend)\n",
        "oof_accuracy = accuracy_score(y, oof_blend > 0.5)\n",
        "print(f'\\nOverall BLEND w/ FE&FS OOF ROC-AUC: {oof_roc_auc:.4f}, OOF Accuracy: {oof_accuracy:.4f}')"
      ]
    },
    {
      "cell_type": "markdown",
      "metadata": {
        "id": "Y6rCDrValRS3"
      },
      "source": [
        "# Подбор гиперпараметров (15 баллов)\n",
        "\n",
        "Для изучения того, какие гиперпараметры доступны у модели для выбора можно использовать '? ModelName'\n",
        "Определитесь с тем, какие гиперпараметры вы хотите оптимизировать и укажите их в objective. Выполните поиск гиперпараметров с Optuna"
      ]
    },
    {
      "cell_type": "code",
      "execution_count": null,
      "metadata": {
        "execution": {
          "iopub.execute_input": "2025-03-27T18:37:05.273924Z",
          "iopub.status.busy": "2025-03-27T18:37:05.273541Z",
          "iopub.status.idle": "2025-03-27T18:37:05.278436Z",
          "shell.execute_reply": "2025-03-27T18:37:05.277205Z",
          "shell.execute_reply.started": "2025-03-27T18:37:05.273892Z"
        },
        "trusted": true,
        "id": "zDsrOtPWlRS3"
      },
      "outputs": [],
      "source": [
        "# ? CatBoostClassifier"
      ]
    },
    {
      "cell_type": "code",
      "execution_count": null,
      "metadata": {
        "execution": {
          "iopub.execute_input": "2025-03-27T18:37:32.006345Z",
          "iopub.status.busy": "2025-03-27T18:37:32.005962Z",
          "iopub.status.idle": "2025-03-27T18:37:32.010953Z",
          "shell.execute_reply": "2025-03-27T18:37:32.009590Z",
          "shell.execute_reply.started": "2025-03-27T18:37:32.006309Z"
        },
        "trusted": true,
        "id": "5EQbw4sdlRS3"
      },
      "outputs": [],
      "source": [
        "# ? lgb.LGBMClassifier"
      ]
    },
    {
      "cell_type": "code",
      "execution_count": null,
      "metadata": {
        "execution": {
          "iopub.execute_input": "2025-03-27T18:37:14.425488Z",
          "iopub.status.busy": "2025-03-27T18:37:14.425070Z",
          "iopub.status.idle": "2025-03-27T18:37:14.429915Z",
          "shell.execute_reply": "2025-03-27T18:37:14.428420Z",
          "shell.execute_reply.started": "2025-03-27T18:37:14.425457Z"
        },
        "trusted": true,
        "id": "O7BNcnMDlRS3"
      },
      "outputs": [],
      "source": [
        "# ? XGBClassifier"
      ]
    },
    {
      "cell_type": "code",
      "execution_count": null,
      "metadata": {
        "execution": {
          "iopub.execute_input": "2025-03-27T19:17:08.648426Z",
          "iopub.status.busy": "2025-03-27T19:17:08.647993Z",
          "iopub.status.idle": "2025-03-27T19:17:08.657078Z",
          "shell.execute_reply": "2025-03-27T19:17:08.655788Z",
          "shell.execute_reply.started": "2025-03-27T19:17:08.648385Z"
        },
        "trusted": true,
        "id": "Wp-PwnnYlRS4"
      },
      "outputs": [],
      "source": [
        "def objective(trial):\n",
        "    params = {\n",
        "        'iterations': trial.suggest_int('iterations', 100, 2000),\n",
        "        'learning_rate': trial.suggest_float('learning_rate', 0.001, 0.3, log=True),\n",
        "        'depth': trial.suggest_int('depth', 2, 12),\n",
        "        'l2_leaf_reg': trial.suggest_float('l2_leaf_reg', 0.1, 10.0, log=True),\n",
        "        'border_count': trial.suggest_int('border_count', 32, 255),\n",
        "        'bagging_temperature': trial.suggest_float('bagging_temperature', 0.0, 10.0),\n",
        "        'random_strength': trial.suggest_float('random_strength', 1e-9, 10.0, log=True),\n",
        "        'min_data_in_leaf': trial.suggest_int('min_data_in_leaf', 1, 100),\n",
        "        'leaf_estimation_iterations': trial.suggest_int('leaf_estimation_iterations', 1, 20),\n",
        "        'grow_policy': trial.suggest_categorical('grow_policy', ['SymmetricTree', 'Depthwise', 'Lossguide']),\n",
        "        'boosting_type': trial.suggest_categorical('boosting_type', ['Ordered', 'Plain']),\n",
        "        'bootstrap_type': trial.suggest_categorical('bootstrap_type', ['Bayesian', 'Bernoulli', 'MVS'])\n",
        "    }\n",
        "\n",
        "    if 'cats' in globals():\n",
        "        params['cat_features'] = cats\n",
        "\n",
        "    skf = StratifiedKFold(n_splits=5, shuffle=True, random_state=69)\n",
        "    oof_cat = np.zeros(len(X))\n",
        "\n",
        "    for train_idx, valid_idx in skf.split(X, y):\n",
        "        X_train, X_valid = X.iloc[train_idx], X.iloc[valid_idx]\n",
        "        y_train, y_valid = y.iloc[train_idx], y.iloc[valid_idx]\n",
        "\n",
        "        X_train = fe(X_train).iloc[:, selected_features]\n",
        "        X_valid = fe(X_valid).iloc[:, selected_features]\n",
        "\n",
        "        model = CatBoostClassifier(**params)\n",
        "        model.fit(\n",
        "            X_train, y_train,\n",
        "            eval_set=(X_valid, y_valid),\n",
        "            early_stopping_rounds=100,\n",
        "            verbose=0\n",
        "        )\n",
        "\n",
        "        y_pred = model.predict_proba(X_valid)[:, 1]\n",
        "        oof_cat[valid_idx] = y_pred\n",
        "\n",
        "    oof_roc_auc = roc_auc_score(y, oof_cat)\n",
        "\n",
        "    return oof_roc_auc"
      ]
    },
    {
      "cell_type": "code",
      "execution_count": null,
      "metadata": {
        "scrolled": true,
        "trusted": true,
        "id": "Qi3MdUmllRS4"
      },
      "outputs": [],
      "source": [
        "study = optuna.create_study(direction='maximize')\n",
        "study.optimize(objective, n_trials=50, timeout=3600)\n",
        "\n",
        "cat_params = study.best_params\n",
        "cat_params"
      ]
    },
    {
      "cell_type": "code",
      "execution_count": null,
      "metadata": {
        "execution": {
          "iopub.execute_input": "2025-03-27T19:17:08.659082Z",
          "iopub.status.busy": "2025-03-27T19:17:08.658660Z",
          "iopub.status.idle": "2025-03-27T19:17:08.682199Z",
          "shell.execute_reply": "2025-03-27T19:17:08.680692Z",
          "shell.execute_reply.started": "2025-03-27T19:17:08.659041Z"
        },
        "trusted": true,
        "id": "mdOY8PwTlRS4"
      },
      "outputs": [],
      "source": [
        "def objective(trial):\n",
        "    params = {\n",
        "        'objective': 'binary',\n",
        "        'metric': 'auc',\n",
        "        \"boosting_type\": trial.suggest_categorical(\"lgb_boosting_type\", [\"gbdt\", \"dart\", \"goss\", \"rf\"]),\n",
        "        \"num_leaves\": trial.suggest_int(\"lgb_num_leaves\", 20, 512),\n",
        "        \"max_depth\": trial.suggest_int(\"lgb_max_depth\", -1, 20),  # -1 means no limit\n",
        "        \"learning_rate\": trial.suggest_loguniform(\"lgb_learning_rate\", 1e-5, 0.3),\n",
        "        \"n_estimators\": trial.suggest_int(\"lgb_n_estimators\", 100, 2000, step=100),\n",
        "        \"min_child_samples\": trial.suggest_int(\"lgb_min_child_samples\", 5, 100),\n",
        "        \"min_child_weight\": trial.suggest_loguniform(\"lgb_min_child_weight\", 1e-5, 10.0),\n",
        "        \"subsample\": trial.suggest_float(\"lgb_subsample\", 0.4, 1.0),\n",
        "        \"subsample_freq\": trial.suggest_int(\"lgb_subsample_freq\", 0, 10),\n",
        "        \"colsample_bytree\": trial.suggest_float(\"lgb_colsample_bytree\", 0.4, 1.0),\n",
        "        \"reg_alpha\": trial.suggest_loguniform(\"lgb_reg_alpha\", 1e-8, 10.0),  # L1 regularization\n",
        "        \"reg_lambda\": trial.suggest_loguniform(\"lgb_reg_lambda\", 1e-8, 10.0),  # L2 regularization\n",
        "        \"scale_pos_weight\": trial.suggest_float(\"lgb_scale_pos_weight\", 1.0, 10.0),\n",
        "        \"min_split_gain\": trial.suggest_float(\"lgb_min_split_gain\", 0.0, 1.0),\n",
        "        \"drop_rate\": trial.suggest_float(\"lgb_drop_rate\", 0.0, 1.0),  # для dart\n",
        "        \"max_bin\": trial.suggest_int(\"lgb_max_bin\", 100, 512),\n",
        "        \"bagging_fraction\": trial.suggest_float(\"lgb_bagging_fraction\", 0.4, 1.0),\n",
        "        \"bagging_freq\": trial.suggest_int(\"lgb_bagging_freq\", 0, 10),\n",
        "        \"verbose\": -1,\n",
        "    }\n",
        "\n",
        "    skf = StratifiedKFold(n_splits=5, shuffle=True, random_state=69)\n",
        "    oof_lgb = np.zeros(len(X))\n",
        "\n",
        "    for train_idx, valid_idx in skf.split(X, y):\n",
        "        X_train, X_valid = X.iloc[train_idx], X.iloc[valid_idx]\n",
        "        y_train, y_valid = y.iloc[train_idx], y.iloc[valid_idx]\n",
        "\n",
        "        X_train = fe(X_train).iloc[:, selected_features]\n",
        "        X_valid = fe(X_valid).iloc[:, selected_features]\n",
        "\n",
        "        for col in cats:\n",
        "            X_train[col] = X_train[col].astype('category')\n",
        "            X_valid[col] = X_valid[col].astype('category')\n",
        "\n",
        "        model = lgb.LGBMClassifier(**params)\n",
        "        model.fit(\n",
        "            X_train, y_train,\n",
        "            eval_set=[(X_valid, y_valid)],\n",
        "            categorical_feature=cats,\n",
        "        )\n",
        "\n",
        "        y_pred = model.predict_proba(X_valid)[:, 1]\n",
        "        oof_lgb[valid_idx] = y_pred\n",
        "\n",
        "    oof_roc_auc = roc_auc_score(y, oof_lgb)\n",
        "\n",
        "    return oof_roc_auc"
      ]
    },
    {
      "cell_type": "code",
      "execution_count": null,
      "metadata": {
        "scrolled": true,
        "trusted": true,
        "id": "39wlSP17lRS4"
      },
      "outputs": [],
      "source": [
        "study = optuna.create_study(direction='maximize')\n",
        "study.optimize(objective, n_trials=50, timeout=3600)\n",
        "\n",
        "lgb_params = study.best_params\n",
        "lgb_params"
      ]
    },
    {
      "cell_type": "code",
      "execution_count": null,
      "metadata": {
        "execution": {
          "iopub.execute_input": "2025-03-27T19:17:08.684252Z",
          "iopub.status.busy": "2025-03-27T19:17:08.683741Z",
          "iopub.status.idle": "2025-03-27T19:17:08.715787Z",
          "shell.execute_reply": "2025-03-27T19:17:08.713267Z",
          "shell.execute_reply.started": "2025-03-27T19:17:08.684187Z"
        },
        "trusted": true,
        "id": "1YUgRnrmlRS4"
      },
      "outputs": [],
      "source": [
        "def objective(trial):\n",
        "    params = {\n",
        "       \"depth\": trial.suggest_int(\"cat_depth\", 4, 16),\n",
        "       \"learning_rate\": trial.suggest_loguniform(\"cat_learning_rate\", 1e-5, 0.5),\n",
        "       \"iterations\": trial.suggest_int(\"cat_iterations\", 100, 2000, step=100),\n",
        "       \"l2_leaf_reg\": trial.suggest_float(\"cat_l2_leaf_reg\", 1, 10),\n",
        "       \"bagging_temperature\": trial.suggest_float(\"cat_bagging_temperature\", 0.0, 1.0),\n",
        "       \"random_strength\": trial.suggest_float(\"cat_random_strength\", 1e-3, 20.0),\n",
        "       \"border_count\": trial.suggest_int(\"cat_border_count\", 32, 255),\n",
        "       \"ctr_border_count\": trial.suggest_int(\"cat_ctr_border_count\", 50, 200),\n",
        "       \"max_ctr_complexity\": trial.suggest_int(\"cat_max_ctr_complexity\", 1, 4),\n",
        "       \"one_hot_max_size\": trial.suggest_int(\"cat_one_hot_max_size\", 2, 10),\n",
        "       \"rsm\": trial.suggest_float(\"cat_rsm\", 0.1, 1.0),\n",
        "       \"scale_pos_weight\": trial.suggest_float(\"cat_scale_pos_weight\", 1.0, 10.0),\n",
        "       \"od_type\": trial.suggest_categorical(\"cat_od_type\", [\"IncToDec\", \"Iter\", \"None\"]),\n",
        "       \"od_wait\": trial.suggest_int(\"cat_od_wait\", 10, 100),\n",
        "       \"boosting_type\": trial.suggest_categorical(\"cat_boosting_type\", [\"Plain\", \"Ordered\"]),\n",
        "       \"task_type\": trial.suggest_categorical(\"cat_task_type\", [\"CPU\", \"GPU\"]),\n",
        "       \"verbose\": False,\n",
        "    }\n",
        "\n",
        "    skf = StratifiedKFold(n_splits=5, shuffle=True, random_state=69)\n",
        "    oof_xgb = np.zeros(len(X))\n",
        "\n",
        "    for train_idx, valid_idx in skf.split(X, y):\n",
        "        X_train, X_valid = X.iloc[train_idx], X.iloc[valid_idx]\n",
        "        y_train, y_valid = y.iloc[train_idx], y.iloc[valid_idx]\n",
        "\n",
        "\n",
        "        X_train = fe(X_train).iloc[:, selected_features]\n",
        "        X_valid = fe(X_valid).iloc[:, selected_features]\n",
        "\n",
        "        for col in cats:\n",
        "            X_train[col] = X_train[col].astype('category')\n",
        "            X_valid[col] = X_valid[col].astype('category')\n",
        "\n",
        "        model = XGBClassifier(**params)\n",
        "        model.fit(\n",
        "            X_train, y_train,\n",
        "            eval_set=[(X_valid, y_valid)],\n",
        "            verbose=False\n",
        "        )\n",
        "\n",
        "        y_pred = model.predict_proba(X_valid)[:, 1]\n",
        "        oof_xgb[valid_idx] = y_pred\n",
        "\n",
        "    oof_roc_auc = roc_auc_score(y, oof_xgb)\n",
        "\n",
        "    return oof_roc_auc"
      ]
    },
    {
      "cell_type": "code",
      "execution_count": null,
      "metadata": {
        "scrolled": true,
        "trusted": true,
        "id": "KFbdvTd4lRS5"
      },
      "outputs": [],
      "source": [
        "study = optuna.create_study(direction='maximize')\n",
        "study.optimize(objective, n_trials=50, timeout=3600)\n",
        "\n",
        "xgb_params = study.best_params"
      ]
    },
    {
      "cell_type": "markdown",
      "metadata": {
        "id": "dDF_YkJvlRS5"
      },
      "source": [
        "# Обучим модели с новыми гиперпараметрами"
      ]
    },
    {
      "cell_type": "code",
      "execution_count": null,
      "metadata": {
        "trusted": true,
        "id": "a5nt0cZVlRS6"
      },
      "outputs": [],
      "source": [
        "skf = StratifiedKFold(n_splits=5, shuffle=True, random_state=69)\n",
        "oof_cat = np.zeros(len(X))\n",
        "\n",
        "for fold, (train_idx, valid_idx) in enumerate(skf.split(X, y)):\n",
        "    X_train, X_valid = X.iloc[train_idx], X.iloc[valid_idx]\n",
        "    y_train, y_valid = y.iloc[train_idx], y.iloc[valid_idx]\n",
        "\n",
        "    # чтобы в тест не утекли глобальные статистики трейна, сначала сплитим, потом генерируем фичи\n",
        "    X_train = fe(X_train).iloc[:, selected_features]\n",
        "    X_valid = fe(X_valid).iloc[:, selected_features]\n",
        "\n",
        "    cat = CatBoostClassifier(\n",
        "        **cat_params,\n",
        "        early_stopping_rounds=100,\n",
        "        random_state=69,\n",
        "        verbose=0,\n",
        "        thread_count=4\n",
        "    )\n",
        "    cat.fit(X_train, y_train, eval_set=(X_valid, y_valid))\n",
        "\n",
        "    y_pred = cat.predict_proba(X_valid)[:, 1]\n",
        "\n",
        "    fold_roc_auc = roc_auc_score(y_valid, y_pred)\n",
        "    fold_acc = accuracy_score(y_valid, y_pred > 0.5)\n",
        "    print(f'FOLD {fold}, Validation ROC-AUC score: {fold_roc_auc:.4f}, Accuracy score: {fold_acc:.4f}')\n",
        "\n",
        "    oof_cat[valid_idx] = y_pred\n",
        "\n",
        "oof_roc_auc = roc_auc_score(y, oof_cat)\n",
        "oof_accuracy = accuracy_score(y, oof_cat > 0.5)\n",
        "print(f'\\nOverall Tuned CAT w/ FE&FS OOF ROC-AUC: {oof_roc_auc:.4f}, OOF Accuracy: {oof_accuracy:.4f}')"
      ]
    },
    {
      "cell_type": "code",
      "execution_count": null,
      "metadata": {
        "trusted": true,
        "id": "F_7OLeZSlRS6"
      },
      "outputs": [],
      "source": [
        "skf = StratifiedKFold(n_splits=5, shuffle=True, random_state=69)\n",
        "oof_lgb = np.zeros(len(X))\n",
        "\n",
        "for fold, (train_idx, valid_idx) in enumerate(skf.split(X, y)):\n",
        "    X_train, X_valid = X.iloc[train_idx], X.iloc[valid_idx]\n",
        "    y_train, y_valid = y.iloc[train_idx], y.iloc[valid_idx]\n",
        "\n",
        "    # чтобы в тест не утекли глобальные статистики трейна, сначала сплитим, потом генерируем фичи\n",
        "    X_train = fe(X_train).iloc[:, selected_features]\n",
        "    X_valid = fe(X_valid).iloc[:, selected_features]\n",
        "\n",
        "    # lgbm требует указания категориальных фичей как 'category'\n",
        "    for col in cats:\n",
        "        X_train[col] = X_train[col].astype('category')\n",
        "        X_valid[col] = X_valid[col].astype('category')\n",
        "\n",
        "    final_params = {\n",
        "        **best_params,\n",
        "        'objective': 'binary',\n",
        "        'metric': 'auc',\n",
        "        'boosting_type': 'gbdt',\n",
        "        'random_state': 69,\n",
        "        'n_jobs': 4,\n",
        "        'verbosity': -1,\n",
        "        'early_stopping_round': 100\n",
        "    }\n",
        "\n",
        "    lgb = lgb.LGBMClassifier(**final_params)\n",
        "    lgb.fit(\n",
        "        X_train, y_train,\n",
        "        eval_set=[(X_valid, y_valid)],\n",
        "        categorical_feature=cats\n",
        "    )\n",
        "\n",
        "    y_pred = lgb.predict_proba(X_valid)[:, 1]\n",
        "\n",
        "    fold_roc_auc = roc_auc_score(y_valid, y_pred)\n",
        "    fold_acc = accuracy_score(y_valid, y_pred > 0.5)\n",
        "    print(f'FOLD {fold}, Validation ROC-AUC score: {fold_roc_auc:.4f}, Accuracy score: {fold_acc:.4f}')\n",
        "\n",
        "    oof_lgb[valid_idx] = y_pred\n",
        "\n",
        "oof_roc_auc = roc_auc_score(y, oof_lgb)\n",
        "oof_accuracy = accuracy_score(y, oof_lgb > 0.5)\n",
        "print(f'\\nOverall Tuned LGB w/ FE&FS OOF ROC-AUC: {oof_roc_auc:.4f}, OOF Accuracy: {oof_accuracy:.4f}')"
      ]
    },
    {
      "cell_type": "code",
      "execution_count": null,
      "metadata": {
        "trusted": true,
        "id": "jLpHWemMlRS7"
      },
      "outputs": [],
      "source": [
        "skf = StratifiedKFold(n_splits=5, shuffle=True, random_state=69)\n",
        "oof_xgb = np.zeros(len(X))\n",
        "\n",
        "for fold, (train_idx, valid_idx) in enumerate(skf.split(X, y)):\n",
        "    X_train, X_valid = X.iloc[train_idx], X.iloc[valid_idx]\n",
        "    y_train, y_valid = y.iloc[train_idx], y.iloc[valid_idx]\n",
        "\n",
        "    # чтобы в тест не утекли глобальные статистики трейна, сначала сплитим, потом генерируем фичи\n",
        "    X_train = fe(X_train).iloc[:, selected_features]\n",
        "    X_valid = fe(X_valid).iloc[:, selected_features]\n",
        "\n",
        "    # xgb требует указания категориальных фичей как 'category'\n",
        "    for col in cats:\n",
        "        X_train[col] = X_train[col].astype('category')\n",
        "        X_valid[col] = X_valid[col].astype('category')\n",
        "\n",
        "    cat_columns = [X_train.columns.get_loc(col) for col in cats]\n",
        "\n",
        "    final_params = {\n",
        "        **xgb_params,\n",
        "        'eval_metric': 'auc',\n",
        "        'early_stopping_rounds': 100,\n",
        "        'use_label_encoder': False,\n",
        "        'enable_categorical': True,\n",
        "        'tree_method': 'hist',\n",
        "        'random_state': 69,\n",
        "        'n_jobs': 4\n",
        "    }\n",
        "\n",
        "    xgb = XGBClassifier(**final_params)\n",
        "    xgb.fit(\n",
        "        X_train, y_train,\n",
        "        eval_set=[(X_valid, y_valid)],\n",
        "        verbose=False\n",
        "    )\n",
        "\n",
        "    y_pred = xgb.predict_proba(X_valid)[:, 1]\n",
        "\n",
        "    fold_roc_auc = roc_auc_score(y_valid, y_pred)\n",
        "    fold_acc = accuracy_score(y_valid, y_pred > 0.5)\n",
        "    print(f'FOLD {fold}, Validation ROC-AUC score: {fold_roc_auc:.4f}, Accuracy score: {fold_acc:.4f}')\n",
        "\n",
        "    oof_xgb[valid_idx] = y_pred\n",
        "\n",
        "oof_roc_auc = roc_auc_score(y, oof_xgb)\n",
        "oof_accuracy = accuracy_score(y, oof_xgb > 0.5)\n",
        "print(f'\\nOverall Tuned XGB w/ FE&FS OOF ROC-AUC: {oof_roc_auc:.4f}, OOF Accuracy: {oof_accuracy:.4f}')"
      ]
    },
    {
      "cell_type": "code",
      "execution_count": null,
      "metadata": {
        "trusted": true,
        "id": "PVq6KkQalRS7"
      },
      "outputs": [],
      "source": [
        "# сблендим предсказания и посмотрим на метрики\n",
        "\n",
        "oof_blend = (oof_cat + oof_lgb + oof_xgb) / 3\n",
        "\n",
        "oof_roc_auc = roc_auc_score(y, oof_blend)\n",
        "oof_accuracy = accuracy_score(y, oof_blend > 0.5)\n",
        "print(f'\\nOverall Tuned BLEND w/ FE&FS OOF ROC-AUC: {oof_roc_auc:.4f}, OOF Accuracy: {oof_accuracy:.4f}')"
      ]
    },
    {
      "cell_type": "markdown",
      "metadata": {
        "id": "gUF0NA2plRS7"
      },
      "source": [
        "# Итоговая важность фичей"
      ]
    },
    {
      "cell_type": "code",
      "execution_count": null,
      "metadata": {
        "trusted": true,
        "id": "29ur7-mulRS7"
      },
      "outputs": [],
      "source": [
        "feature_importance_cat = cat.get_feature_importance()\n",
        "feature_names_cat = cat.feature_names_\n",
        "\n",
        "\n",
        "\n",
        "importance_df = pd.DataFrame({\n",
        "    'Feature': feature_names_cat,\n",
        "    'Importance': feature_importance_cat\n",
        "}).sort_values('Importance', ascending=False)\n",
        "\n",
        "\n",
        "plt.figure(figsize=(10,6))\n",
        "plt.barh(importance_df['Feature'][:20],importance_df['Importance'][:20])\n",
        "plt.show()\n"
      ]
    },
    {
      "cell_type": "code",
      "source": [
        "feature_importance_xgb = xgb.get_feature_importance()\n",
        "feature_names_xgb = xgb.feature_names_\n",
        "\n",
        "\n",
        "\n",
        "importance_df = pd.DataFrame({\n",
        "    'Feature': feature_names_xgb,\n",
        "    'Importance': feature_importance_xgb\n",
        "}).sort_values('Importance', ascending=False)\n",
        "\n",
        "\n",
        "plt.figure(figsize=(10,6))\n",
        "plt.barh(importance_df['Feature'][:20],importance_df['Importance'][:20])\n",
        "plt.show()"
      ],
      "metadata": {
        "id": "czaHasj5mGET"
      },
      "execution_count": null,
      "outputs": []
    },
    {
      "cell_type": "code",
      "source": [
        "feature_importance_lgb = lgb.get_feature_importance()\n",
        "feature_names_lgb = lgb.feature_names_\n",
        "\n",
        "\n",
        "\n",
        "importance_df = pd.DataFrame({\n",
        "    'Feature': feature_names_lgb,\n",
        "    'Importance': feature_importance_lgb\n",
        "}).sort_values('Importance', ascending=False)\n",
        "\n",
        "\n",
        "plt.figure(figsize=(10,6))\n",
        "plt.barh(importance_df['Feature'][:20],importance_df['Importance'][:20])\n",
        "plt.show()"
      ],
      "metadata": {
        "id": "7y5-lYZ5mGft"
      },
      "execution_count": null,
      "outputs": []
    }
  ],
  "metadata": {
    "kaggle": {
      "accelerator": "none",
      "dataSources": [
        {
          "databundleVersionId": 302495,
          "sourceId": 13044,
          "sourceType": "competition"
        }
      ],
      "dockerImageVersionId": 30918,
      "isGpuEnabled": false,
      "isInternetEnabled": true,
      "language": "python",
      "sourceType": "notebook"
    },
    "kernelspec": {
      "display_name": "Python 3",
      "language": "python",
      "name": "python3"
    },
    "language_info": {
      "codemirror_mode": {
        "name": "ipython",
        "version": 3
      },
      "file_extension": ".py",
      "mimetype": "text/x-python",
      "name": "python",
      "nbconvert_exporter": "python",
      "pygments_lexer": "ipython3",
      "version": "3.10.12"
    },
    "colab": {
      "provenance": []
    }
  },
  "nbformat": 4,
  "nbformat_minor": 0
}
